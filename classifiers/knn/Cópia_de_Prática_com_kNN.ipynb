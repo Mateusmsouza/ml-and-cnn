{
  "nbformat": 4,
  "nbformat_minor": 0,
  "metadata": {
    "colab": {
      "provenance": [],
      "collapsed_sections": [
        "V3wvu6ARnohz",
        "fBHa6keBbvRM",
        "JeI_zlL-bjrI",
        "irXo83DWBfe1",
        "lvSqHS1nKZJJ"
      ]
    },
    "kernelspec": {
      "name": "python3",
      "display_name": "Python 3"
    }
  },
  "cells": [
    {
      "cell_type": "markdown",
      "source": [
        "# **Usando Machine Learning KNN (K-Nearest Neighbors) para resolver problemas**\n",
        "\n",
        "O objetivo principal deste artigo é demonstrar as melhores práticas de resolução de um problema por meio do algoritmo de aprendizado de máquina superado **KNN** (K-Nearest Neighbors).\n",
        "\n",
        "Para cumprir este objetivo é utilizado o conjunto de dados **IRIS**, um conjunto de dados muito comum para cientistas de dados para testes e estudos em **ML** (Machine Learning). Além disso, este é um conjunto de dados integrado para a biblioteca ***Scikit-Learn*** ou ***Seaborn***."
      ],
      "metadata": {
        "id": "uFfetKQuuSJ_"
      }
    },
    {
      "cell_type": "markdown",
      "source": [
        "> # **Conjunto de dados iris**\n",
        "* Iris é um gênero de espécies de plantas com flores vistosas.\n",
        "* As espécies de íris aqui estudadas, **setosa**, **versicolor** e **virginica** compartilham uma cor semelhante: violeta escuro/azul.\n",
        "* Uma forma de distinguir visualmente as espécies entre elas é por meio das dimensões de suas pétalas e sépalas (comprimento e largura)."
      ],
      "metadata": {
        "id": "ut4nVwC8uiMz"
      }
    },
    {
      "cell_type": "markdown",
      "metadata": {
        "id": "8kuG2LRWTMAo"
      },
      "source": [
        "> **A primeira etapa é importar a biblioteca _Seaborn_ e, em seguida, carregar o conjunto de dados iris a partir dela.**\n",
        "\n",
        "Diferentemente do Scikit-Learn, que carrega o dataset como arrays, o Seaborn carrega como Dataframe do Pandas, economizando algumas etapas para construir o dataframe."
      ]
    },
    {
      "cell_type": "code",
      "metadata": {
        "id": "rFq7DIl8WdRp"
      },
      "source": [
        "\"\"\"\n",
        "Prática de Aprendizado de Máquina\n",
        "\n",
        "Descrição do código:\n",
        "- Importa a biblioteca seaborn, uma biblioteca de visualização de dados baseada\n",
        "    no matplotlib.\n",
        "- Carrega o dataset iris em memória\n",
        "\"\"\"\n",
        "import seaborn as sns\n",
        "iris = sns.load_dataset(\"iris\")"
      ],
      "execution_count": 1,
      "outputs": []
    },
    {
      "cell_type": "code",
      "metadata": {
        "id": "Qg5zl5vAWhXo",
        "colab": {
          "base_uri": "https://localhost:8080/"
        },
        "outputId": "64922a68-2372-423c-fba0-dc0ae2609675"
      },
      "source": [
        "\"\"\"\n",
        "Prática de Aprendizado de Máquina\n",
        "\n",
        "Descrição do código:\n",
        "- Mostra o tipo do dado do dataset, no caso é um DataFrame do pandas\n",
        "\"\"\"\n",
        "type(iris)"
      ],
      "execution_count": 2,
      "outputs": [
        {
          "output_type": "execute_result",
          "data": {
            "text/plain": [
              "pandas.core.frame.DataFrame"
            ]
          },
          "metadata": {},
          "execution_count": 2
        }
      ]
    },
    {
      "cell_type": "markdown",
      "metadata": {
        "id": "-AKhQ72KWGwg"
      },
      "source": [
        "O método **sample** de um Dataframe do Pandas é uma ótima maneira de visualizar como os dados são armazenados, tais como recursos e tipos de dados, a partir de amostras aleatórias do Dataframe, não ordenadas."
      ]
    },
    {
      "cell_type": "code",
      "metadata": {
        "id": "969d1_5FWhje",
        "colab": {
          "base_uri": "https://localhost:8080/",
          "height": 206
        },
        "outputId": "710d9de6-4f37-45ed-c54e-90decd230df1"
      },
      "source": [
        "\"\"\"\n",
        "Prática de Aprendizado de Máquina\n",
        "\n",
        "Descrição do código:\n",
        "- Mostra 5 exemplos aleatórios do dataset iris.\n",
        "\"\"\"\n",
        "iris.sample(5)"
      ],
      "execution_count": 3,
      "outputs": [
        {
          "output_type": "execute_result",
          "data": {
            "text/plain": [
              "     sepal_length  sepal_width  petal_length  petal_width     species\n",
              "89            5.5          2.5           4.0          1.3  versicolor\n",
              "103           6.3          2.9           5.6          1.8   virginica\n",
              "145           6.7          3.0           5.2          2.3   virginica\n",
              "65            6.7          3.1           4.4          1.4  versicolor\n",
              "119           6.0          2.2           5.0          1.5   virginica"
            ],
            "text/html": [
              "\n",
              "  <div id=\"df-926592d8-7890-4139-abb7-8b3c749cfc84\">\n",
              "    <div class=\"colab-df-container\">\n",
              "      <div>\n",
              "<style scoped>\n",
              "    .dataframe tbody tr th:only-of-type {\n",
              "        vertical-align: middle;\n",
              "    }\n",
              "\n",
              "    .dataframe tbody tr th {\n",
              "        vertical-align: top;\n",
              "    }\n",
              "\n",
              "    .dataframe thead th {\n",
              "        text-align: right;\n",
              "    }\n",
              "</style>\n",
              "<table border=\"1\" class=\"dataframe\">\n",
              "  <thead>\n",
              "    <tr style=\"text-align: right;\">\n",
              "      <th></th>\n",
              "      <th>sepal_length</th>\n",
              "      <th>sepal_width</th>\n",
              "      <th>petal_length</th>\n",
              "      <th>petal_width</th>\n",
              "      <th>species</th>\n",
              "    </tr>\n",
              "  </thead>\n",
              "  <tbody>\n",
              "    <tr>\n",
              "      <th>89</th>\n",
              "      <td>5.5</td>\n",
              "      <td>2.5</td>\n",
              "      <td>4.0</td>\n",
              "      <td>1.3</td>\n",
              "      <td>versicolor</td>\n",
              "    </tr>\n",
              "    <tr>\n",
              "      <th>103</th>\n",
              "      <td>6.3</td>\n",
              "      <td>2.9</td>\n",
              "      <td>5.6</td>\n",
              "      <td>1.8</td>\n",
              "      <td>virginica</td>\n",
              "    </tr>\n",
              "    <tr>\n",
              "      <th>145</th>\n",
              "      <td>6.7</td>\n",
              "      <td>3.0</td>\n",
              "      <td>5.2</td>\n",
              "      <td>2.3</td>\n",
              "      <td>virginica</td>\n",
              "    </tr>\n",
              "    <tr>\n",
              "      <th>65</th>\n",
              "      <td>6.7</td>\n",
              "      <td>3.1</td>\n",
              "      <td>4.4</td>\n",
              "      <td>1.4</td>\n",
              "      <td>versicolor</td>\n",
              "    </tr>\n",
              "    <tr>\n",
              "      <th>119</th>\n",
              "      <td>6.0</td>\n",
              "      <td>2.2</td>\n",
              "      <td>5.0</td>\n",
              "      <td>1.5</td>\n",
              "      <td>virginica</td>\n",
              "    </tr>\n",
              "  </tbody>\n",
              "</table>\n",
              "</div>\n",
              "      <button class=\"colab-df-convert\" onclick=\"convertToInteractive('df-926592d8-7890-4139-abb7-8b3c749cfc84')\"\n",
              "              title=\"Convert this dataframe to an interactive table.\"\n",
              "              style=\"display:none;\">\n",
              "        \n",
              "  <svg xmlns=\"http://www.w3.org/2000/svg\" height=\"24px\"viewBox=\"0 0 24 24\"\n",
              "       width=\"24px\">\n",
              "    <path d=\"M0 0h24v24H0V0z\" fill=\"none\"/>\n",
              "    <path d=\"M18.56 5.44l.94 2.06.94-2.06 2.06-.94-2.06-.94-.94-2.06-.94 2.06-2.06.94zm-11 1L8.5 8.5l.94-2.06 2.06-.94-2.06-.94L8.5 2.5l-.94 2.06-2.06.94zm10 10l.94 2.06.94-2.06 2.06-.94-2.06-.94-.94-2.06-.94 2.06-2.06.94z\"/><path d=\"M17.41 7.96l-1.37-1.37c-.4-.4-.92-.59-1.43-.59-.52 0-1.04.2-1.43.59L10.3 9.45l-7.72 7.72c-.78.78-.78 2.05 0 2.83L4 21.41c.39.39.9.59 1.41.59.51 0 1.02-.2 1.41-.59l7.78-7.78 2.81-2.81c.8-.78.8-2.07 0-2.86zM5.41 20L4 18.59l7.72-7.72 1.47 1.35L5.41 20z\"/>\n",
              "  </svg>\n",
              "      </button>\n",
              "      \n",
              "  <style>\n",
              "    .colab-df-container {\n",
              "      display:flex;\n",
              "      flex-wrap:wrap;\n",
              "      gap: 12px;\n",
              "    }\n",
              "\n",
              "    .colab-df-convert {\n",
              "      background-color: #E8F0FE;\n",
              "      border: none;\n",
              "      border-radius: 50%;\n",
              "      cursor: pointer;\n",
              "      display: none;\n",
              "      fill: #1967D2;\n",
              "      height: 32px;\n",
              "      padding: 0 0 0 0;\n",
              "      width: 32px;\n",
              "    }\n",
              "\n",
              "    .colab-df-convert:hover {\n",
              "      background-color: #E2EBFA;\n",
              "      box-shadow: 0px 1px 2px rgba(60, 64, 67, 0.3), 0px 1px 3px 1px rgba(60, 64, 67, 0.15);\n",
              "      fill: #174EA6;\n",
              "    }\n",
              "\n",
              "    [theme=dark] .colab-df-convert {\n",
              "      background-color: #3B4455;\n",
              "      fill: #D2E3FC;\n",
              "    }\n",
              "\n",
              "    [theme=dark] .colab-df-convert:hover {\n",
              "      background-color: #434B5C;\n",
              "      box-shadow: 0px 1px 3px 1px rgba(0, 0, 0, 0.15);\n",
              "      filter: drop-shadow(0px 1px 2px rgba(0, 0, 0, 0.3));\n",
              "      fill: #FFFFFF;\n",
              "    }\n",
              "  </style>\n",
              "\n",
              "      <script>\n",
              "        const buttonEl =\n",
              "          document.querySelector('#df-926592d8-7890-4139-abb7-8b3c749cfc84 button.colab-df-convert');\n",
              "        buttonEl.style.display =\n",
              "          google.colab.kernel.accessAllowed ? 'block' : 'none';\n",
              "\n",
              "        async function convertToInteractive(key) {\n",
              "          const element = document.querySelector('#df-926592d8-7890-4139-abb7-8b3c749cfc84');\n",
              "          const dataTable =\n",
              "            await google.colab.kernel.invokeFunction('convertToInteractive',\n",
              "                                                     [key], {});\n",
              "          if (!dataTable) return;\n",
              "\n",
              "          const docLinkHtml = 'Like what you see? Visit the ' +\n",
              "            '<a target=\"_blank\" href=https://colab.research.google.com/notebooks/data_table.ipynb>data table notebook</a>'\n",
              "            + ' to learn more about interactive tables.';\n",
              "          element.innerHTML = '';\n",
              "          dataTable['output_type'] = 'display_data';\n",
              "          await google.colab.output.renderOutput(dataTable, element);\n",
              "          const docLink = document.createElement('div');\n",
              "          docLink.innerHTML = docLinkHtml;\n",
              "          element.appendChild(docLink);\n",
              "        }\n",
              "      </script>\n",
              "    </div>\n",
              "  </div>\n",
              "  "
            ]
          },
          "metadata": {},
          "execution_count": 3
        }
      ]
    },
    {
      "cell_type": "markdown",
      "metadata": {
        "id": "R0EqCetwcYLH"
      },
      "source": [
        "Existem 4 características (atributos) listadas: \"comprimento da sépala (cm)\", \"largura da sépala (cm)\", \"comprimento da pétala (cm)\" e \"largura da pétala (cm)\", respectivamente."
      ]
    },
    {
      "cell_type": "markdown",
      "metadata": {
        "id": "nxui_mHg7Av_"
      },
      "source": [
        "Para entender melhor o conjunto de dados, observe a imagem abaixo.\n",
        "> **Este método é específico para o Colab importar arquivos, neste caso uma imagem.**"
      ]
    },
    {
      "cell_type": "code",
      "metadata": {
        "id": "KOQt2d_u6xWA",
        "colab": {
          "base_uri": "https://localhost:8080/",
          "height": 73
        },
        "outputId": "4f6baa40-c70f-4986-b3dd-42eac86a5b2a"
      },
      "source": [
        "from google.colab import files\n",
        "iris_image = files.upload()"
      ],
      "execution_count": null,
      "outputs": [
        {
          "output_type": "display_data",
          "data": {
            "text/plain": [
              "<IPython.core.display.HTML object>"
            ],
            "text/html": [
              "\n",
              "     <input type=\"file\" id=\"files-0132acde-6a48-41f5-b6bb-5aa98b46bd8e\" name=\"files[]\" multiple disabled\n",
              "        style=\"border:none\" />\n",
              "     <output id=\"result-0132acde-6a48-41f5-b6bb-5aa98b46bd8e\">\n",
              "      Upload widget is only available when the cell has been executed in the\n",
              "      current browser session. Please rerun this cell to enable.\n",
              "      </output>\n",
              "      <script>// Copyright 2017 Google LLC\n",
              "//\n",
              "// Licensed under the Apache License, Version 2.0 (the \"License\");\n",
              "// you may not use this file except in compliance with the License.\n",
              "// You may obtain a copy of the License at\n",
              "//\n",
              "//      http://www.apache.org/licenses/LICENSE-2.0\n",
              "//\n",
              "// Unless required by applicable law or agreed to in writing, software\n",
              "// distributed under the License is distributed on an \"AS IS\" BASIS,\n",
              "// WITHOUT WARRANTIES OR CONDITIONS OF ANY KIND, either express or implied.\n",
              "// See the License for the specific language governing permissions and\n",
              "// limitations under the License.\n",
              "\n",
              "/**\n",
              " * @fileoverview Helpers for google.colab Python module.\n",
              " */\n",
              "(function(scope) {\n",
              "function span(text, styleAttributes = {}) {\n",
              "  const element = document.createElement('span');\n",
              "  element.textContent = text;\n",
              "  for (const key of Object.keys(styleAttributes)) {\n",
              "    element.style[key] = styleAttributes[key];\n",
              "  }\n",
              "  return element;\n",
              "}\n",
              "\n",
              "// Max number of bytes which will be uploaded at a time.\n",
              "const MAX_PAYLOAD_SIZE = 100 * 1024;\n",
              "\n",
              "function _uploadFiles(inputId, outputId) {\n",
              "  const steps = uploadFilesStep(inputId, outputId);\n",
              "  const outputElement = document.getElementById(outputId);\n",
              "  // Cache steps on the outputElement to make it available for the next call\n",
              "  // to uploadFilesContinue from Python.\n",
              "  outputElement.steps = steps;\n",
              "\n",
              "  return _uploadFilesContinue(outputId);\n",
              "}\n",
              "\n",
              "// This is roughly an async generator (not supported in the browser yet),\n",
              "// where there are multiple asynchronous steps and the Python side is going\n",
              "// to poll for completion of each step.\n",
              "// This uses a Promise to block the python side on completion of each step,\n",
              "// then passes the result of the previous step as the input to the next step.\n",
              "function _uploadFilesContinue(outputId) {\n",
              "  const outputElement = document.getElementById(outputId);\n",
              "  const steps = outputElement.steps;\n",
              "\n",
              "  const next = steps.next(outputElement.lastPromiseValue);\n",
              "  return Promise.resolve(next.value.promise).then((value) => {\n",
              "    // Cache the last promise value to make it available to the next\n",
              "    // step of the generator.\n",
              "    outputElement.lastPromiseValue = value;\n",
              "    return next.value.response;\n",
              "  });\n",
              "}\n",
              "\n",
              "/**\n",
              " * Generator function which is called between each async step of the upload\n",
              " * process.\n",
              " * @param {string} inputId Element ID of the input file picker element.\n",
              " * @param {string} outputId Element ID of the output display.\n",
              " * @return {!Iterable<!Object>} Iterable of next steps.\n",
              " */\n",
              "function* uploadFilesStep(inputId, outputId) {\n",
              "  const inputElement = document.getElementById(inputId);\n",
              "  inputElement.disabled = false;\n",
              "\n",
              "  const outputElement = document.getElementById(outputId);\n",
              "  outputElement.innerHTML = '';\n",
              "\n",
              "  const pickedPromise = new Promise((resolve) => {\n",
              "    inputElement.addEventListener('change', (e) => {\n",
              "      resolve(e.target.files);\n",
              "    });\n",
              "  });\n",
              "\n",
              "  const cancel = document.createElement('button');\n",
              "  inputElement.parentElement.appendChild(cancel);\n",
              "  cancel.textContent = 'Cancel upload';\n",
              "  const cancelPromise = new Promise((resolve) => {\n",
              "    cancel.onclick = () => {\n",
              "      resolve(null);\n",
              "    };\n",
              "  });\n",
              "\n",
              "  // Wait for the user to pick the files.\n",
              "  const files = yield {\n",
              "    promise: Promise.race([pickedPromise, cancelPromise]),\n",
              "    response: {\n",
              "      action: 'starting',\n",
              "    }\n",
              "  };\n",
              "\n",
              "  cancel.remove();\n",
              "\n",
              "  // Disable the input element since further picks are not allowed.\n",
              "  inputElement.disabled = true;\n",
              "\n",
              "  if (!files) {\n",
              "    return {\n",
              "      response: {\n",
              "        action: 'complete',\n",
              "      }\n",
              "    };\n",
              "  }\n",
              "\n",
              "  for (const file of files) {\n",
              "    const li = document.createElement('li');\n",
              "    li.append(span(file.name, {fontWeight: 'bold'}));\n",
              "    li.append(span(\n",
              "        `(${file.type || 'n/a'}) - ${file.size} bytes, ` +\n",
              "        `last modified: ${\n",
              "            file.lastModifiedDate ? file.lastModifiedDate.toLocaleDateString() :\n",
              "                                    'n/a'} - `));\n",
              "    const percent = span('0% done');\n",
              "    li.appendChild(percent);\n",
              "\n",
              "    outputElement.appendChild(li);\n",
              "\n",
              "    const fileDataPromise = new Promise((resolve) => {\n",
              "      const reader = new FileReader();\n",
              "      reader.onload = (e) => {\n",
              "        resolve(e.target.result);\n",
              "      };\n",
              "      reader.readAsArrayBuffer(file);\n",
              "    });\n",
              "    // Wait for the data to be ready.\n",
              "    let fileData = yield {\n",
              "      promise: fileDataPromise,\n",
              "      response: {\n",
              "        action: 'continue',\n",
              "      }\n",
              "    };\n",
              "\n",
              "    // Use a chunked sending to avoid message size limits. See b/62115660.\n",
              "    let position = 0;\n",
              "    do {\n",
              "      const length = Math.min(fileData.byteLength - position, MAX_PAYLOAD_SIZE);\n",
              "      const chunk = new Uint8Array(fileData, position, length);\n",
              "      position += length;\n",
              "\n",
              "      const base64 = btoa(String.fromCharCode.apply(null, chunk));\n",
              "      yield {\n",
              "        response: {\n",
              "          action: 'append',\n",
              "          file: file.name,\n",
              "          data: base64,\n",
              "        },\n",
              "      };\n",
              "\n",
              "      let percentDone = fileData.byteLength === 0 ?\n",
              "          100 :\n",
              "          Math.round((position / fileData.byteLength) * 100);\n",
              "      percent.textContent = `${percentDone}% done`;\n",
              "\n",
              "    } while (position < fileData.byteLength);\n",
              "  }\n",
              "\n",
              "  // All done.\n",
              "  yield {\n",
              "    response: {\n",
              "      action: 'complete',\n",
              "    }\n",
              "  };\n",
              "}\n",
              "\n",
              "scope.google = scope.google || {};\n",
              "scope.google.colab = scope.google.colab || {};\n",
              "scope.google.colab._files = {\n",
              "  _uploadFiles,\n",
              "  _uploadFilesContinue,\n",
              "};\n",
              "})(self);\n",
              "</script> "
            ]
          },
          "metadata": {}
        },
        {
          "output_type": "stream",
          "name": "stdout",
          "text": [
            "Saving output.png to output.png\n"
          ]
        }
      ]
    },
    {
      "cell_type": "code",
      "metadata": {
        "id": "nFhpHFZij7W4",
        "colab": {
          "base_uri": "https://localhost:8080/",
          "height": 330
        },
        "outputId": "7f5b4332-b692-48e9-eeb9-45ef445b3ca7"
      },
      "source": [
        "from IPython.display import Image\n",
        "Image(filename =\"iris-data-set.png\", width=500, height=350)"
      ],
      "execution_count": null,
      "outputs": [
        {
          "output_type": "error",
          "ename": "FileNotFoundError",
          "evalue": "ignored",
          "traceback": [
            "\u001b[0;31m---------------------------------------------------------------------------\u001b[0m",
            "\u001b[0;31mFileNotFoundError\u001b[0m                         Traceback (most recent call last)",
            "\u001b[0;32m<ipython-input-9-a69087d4bd61>\u001b[0m in \u001b[0;36m<cell line: 2>\u001b[0;34m()\u001b[0m\n\u001b[1;32m      1\u001b[0m \u001b[0;32mfrom\u001b[0m \u001b[0mIPython\u001b[0m\u001b[0;34m.\u001b[0m\u001b[0mdisplay\u001b[0m \u001b[0;32mimport\u001b[0m \u001b[0mImage\u001b[0m\u001b[0;34m\u001b[0m\u001b[0;34m\u001b[0m\u001b[0m\n\u001b[0;32m----> 2\u001b[0;31m \u001b[0mImage\u001b[0m\u001b[0;34m(\u001b[0m\u001b[0mfilename\u001b[0m \u001b[0;34m=\u001b[0m\u001b[0;34m\"iris-data-set.png\"\u001b[0m\u001b[0;34m,\u001b[0m \u001b[0mwidth\u001b[0m\u001b[0;34m=\u001b[0m\u001b[0;36m500\u001b[0m\u001b[0;34m,\u001b[0m \u001b[0mheight\u001b[0m\u001b[0;34m=\u001b[0m\u001b[0;36m350\u001b[0m\u001b[0;34m)\u001b[0m\u001b[0;34m\u001b[0m\u001b[0;34m\u001b[0m\u001b[0m\n\u001b[0m",
            "\u001b[0;32m/usr/local/lib/python3.10/dist-packages/IPython/core/display.py\u001b[0m in \u001b[0;36m__init__\u001b[0;34m(self, data, url, filename, format, embed, width, height, retina, unconfined, metadata)\u001b[0m\n\u001b[1;32m   1229\u001b[0m         \u001b[0mself\u001b[0m\u001b[0;34m.\u001b[0m\u001b[0mretina\u001b[0m \u001b[0;34m=\u001b[0m \u001b[0mretina\u001b[0m\u001b[0;34m\u001b[0m\u001b[0;34m\u001b[0m\u001b[0m\n\u001b[1;32m   1230\u001b[0m         \u001b[0mself\u001b[0m\u001b[0;34m.\u001b[0m\u001b[0munconfined\u001b[0m \u001b[0;34m=\u001b[0m \u001b[0munconfined\u001b[0m\u001b[0;34m\u001b[0m\u001b[0;34m\u001b[0m\u001b[0m\n\u001b[0;32m-> 1231\u001b[0;31m         super(Image, self).__init__(data=data, url=url, filename=filename, \n\u001b[0m\u001b[1;32m   1232\u001b[0m                 metadata=metadata)\n\u001b[1;32m   1233\u001b[0m \u001b[0;34m\u001b[0m\u001b[0m\n",
            "\u001b[0;32m/usr/local/lib/python3.10/dist-packages/IPython/core/display.py\u001b[0m in \u001b[0;36m__init__\u001b[0;34m(self, data, url, filename, metadata)\u001b[0m\n\u001b[1;32m    635\u001b[0m             \u001b[0mself\u001b[0m\u001b[0;34m.\u001b[0m\u001b[0mmetadata\u001b[0m \u001b[0;34m=\u001b[0m \u001b[0;34m{\u001b[0m\u001b[0;34m}\u001b[0m\u001b[0;34m\u001b[0m\u001b[0;34m\u001b[0m\u001b[0m\n\u001b[1;32m    636\u001b[0m \u001b[0;34m\u001b[0m\u001b[0m\n\u001b[0;32m--> 637\u001b[0;31m         \u001b[0mself\u001b[0m\u001b[0;34m.\u001b[0m\u001b[0mreload\u001b[0m\u001b[0;34m(\u001b[0m\u001b[0;34m)\u001b[0m\u001b[0;34m\u001b[0m\u001b[0;34m\u001b[0m\u001b[0m\n\u001b[0m\u001b[1;32m    638\u001b[0m         \u001b[0mself\u001b[0m\u001b[0;34m.\u001b[0m\u001b[0m_check_data\u001b[0m\u001b[0;34m(\u001b[0m\u001b[0;34m)\u001b[0m\u001b[0;34m\u001b[0m\u001b[0;34m\u001b[0m\u001b[0m\n\u001b[1;32m    639\u001b[0m \u001b[0;34m\u001b[0m\u001b[0m\n",
            "\u001b[0;32m/usr/local/lib/python3.10/dist-packages/IPython/core/display.py\u001b[0m in \u001b[0;36mreload\u001b[0;34m(self)\u001b[0m\n\u001b[1;32m   1261\u001b[0m         \u001b[0;34m\"\"\"Reload the raw data from file or URL.\"\"\"\u001b[0m\u001b[0;34m\u001b[0m\u001b[0;34m\u001b[0m\u001b[0m\n\u001b[1;32m   1262\u001b[0m         \u001b[0;32mif\u001b[0m \u001b[0mself\u001b[0m\u001b[0;34m.\u001b[0m\u001b[0membed\u001b[0m\u001b[0;34m:\u001b[0m\u001b[0;34m\u001b[0m\u001b[0;34m\u001b[0m\u001b[0m\n\u001b[0;32m-> 1263\u001b[0;31m             \u001b[0msuper\u001b[0m\u001b[0;34m(\u001b[0m\u001b[0mImage\u001b[0m\u001b[0;34m,\u001b[0m\u001b[0mself\u001b[0m\u001b[0;34m)\u001b[0m\u001b[0;34m.\u001b[0m\u001b[0mreload\u001b[0m\u001b[0;34m(\u001b[0m\u001b[0;34m)\u001b[0m\u001b[0;34m\u001b[0m\u001b[0;34m\u001b[0m\u001b[0m\n\u001b[0m\u001b[1;32m   1264\u001b[0m             \u001b[0;32mif\u001b[0m \u001b[0mself\u001b[0m\u001b[0;34m.\u001b[0m\u001b[0mretina\u001b[0m\u001b[0;34m:\u001b[0m\u001b[0;34m\u001b[0m\u001b[0;34m\u001b[0m\u001b[0m\n\u001b[1;32m   1265\u001b[0m                 \u001b[0mself\u001b[0m\u001b[0;34m.\u001b[0m\u001b[0m_retina_shape\u001b[0m\u001b[0;34m(\u001b[0m\u001b[0;34m)\u001b[0m\u001b[0;34m\u001b[0m\u001b[0;34m\u001b[0m\u001b[0m\n",
            "\u001b[0;32m/usr/local/lib/python3.10/dist-packages/IPython/core/display.py\u001b[0m in \u001b[0;36mreload\u001b[0;34m(self)\u001b[0m\n\u001b[1;32m    660\u001b[0m         \u001b[0;34m\"\"\"Reload the raw data from file or URL.\"\"\"\u001b[0m\u001b[0;34m\u001b[0m\u001b[0;34m\u001b[0m\u001b[0m\n\u001b[1;32m    661\u001b[0m         \u001b[0;32mif\u001b[0m \u001b[0mself\u001b[0m\u001b[0;34m.\u001b[0m\u001b[0mfilename\u001b[0m \u001b[0;32mis\u001b[0m \u001b[0;32mnot\u001b[0m \u001b[0;32mNone\u001b[0m\u001b[0;34m:\u001b[0m\u001b[0;34m\u001b[0m\u001b[0;34m\u001b[0m\u001b[0m\n\u001b[0;32m--> 662\u001b[0;31m             \u001b[0;32mwith\u001b[0m \u001b[0mopen\u001b[0m\u001b[0;34m(\u001b[0m\u001b[0mself\u001b[0m\u001b[0;34m.\u001b[0m\u001b[0mfilename\u001b[0m\u001b[0;34m,\u001b[0m \u001b[0mself\u001b[0m\u001b[0;34m.\u001b[0m\u001b[0m_read_flags\u001b[0m\u001b[0;34m)\u001b[0m \u001b[0;32mas\u001b[0m \u001b[0mf\u001b[0m\u001b[0;34m:\u001b[0m\u001b[0;34m\u001b[0m\u001b[0;34m\u001b[0m\u001b[0m\n\u001b[0m\u001b[1;32m    663\u001b[0m                 \u001b[0mself\u001b[0m\u001b[0;34m.\u001b[0m\u001b[0mdata\u001b[0m \u001b[0;34m=\u001b[0m \u001b[0mf\u001b[0m\u001b[0;34m.\u001b[0m\u001b[0mread\u001b[0m\u001b[0;34m(\u001b[0m\u001b[0;34m)\u001b[0m\u001b[0;34m\u001b[0m\u001b[0;34m\u001b[0m\u001b[0m\n\u001b[1;32m    664\u001b[0m         \u001b[0;32melif\u001b[0m \u001b[0mself\u001b[0m\u001b[0;34m.\u001b[0m\u001b[0murl\u001b[0m \u001b[0;32mis\u001b[0m \u001b[0;32mnot\u001b[0m \u001b[0;32mNone\u001b[0m\u001b[0;34m:\u001b[0m\u001b[0;34m\u001b[0m\u001b[0;34m\u001b[0m\u001b[0m\n",
            "\u001b[0;31mFileNotFoundError\u001b[0m: [Errno 2] No such file or directory: 'iris-data-set.png'"
          ]
        }
      ]
    },
    {
      "cell_type": "markdown",
      "metadata": {
        "id": "Dry1vuBkdDrd"
      },
      "source": [
        "> **Para realizar algumas verificações extras no Dataframe, precisamos importar a biblioteca Pandas.**\n",
        "\n",
        "Antes de iniciar qualquer trabalho mais aprofundado sobre qualquer dataset, é essencial fazer uma análise preliminar dos dados: os tipos de dados, os seus tamanhos, alguns valores estatísticos, valores faltantes, etc. Em seguida, tire suas primeiras conclusões e corrija qualquer problema* da maneira adequada.\n",
        "\n",
        "*não é o deste dataset, mas as verificações devem ser realizadas de qualquer maneira."
      ]
    },
    {
      "cell_type": "code",
      "metadata": {
        "id": "bB_GWIajdEEC"
      },
      "source": [
        "\"\"\"\n",
        "Prática de Aprendizado de Máquina\n",
        "\n",
        "Descrição do código:\n",
        "- Import a lib pandas;\n",
        "\"\"\"\n",
        "import pandas as pd"
      ],
      "execution_count": 4,
      "outputs": []
    },
    {
      "cell_type": "code",
      "metadata": {
        "id": "f0UNsc6scvt0",
        "colab": {
          "base_uri": "https://localhost:8080/"
        },
        "outputId": "e47a3c55-105b-4234-d6cf-ed3b7f7e18af"
      },
      "source": [
        "\"\"\"\n",
        "Prática de Aprendizado de Máquina\n",
        "\n",
        "Descrição do código:\n",
        "- Chama o método value_counts que retornará a contagem de objetos únicos\n",
        "    passados por parâmetro.\n",
        "\"\"\"\n",
        "pd.value_counts(iris.species)"
      ],
      "execution_count": 5,
      "outputs": [
        {
          "output_type": "execute_result",
          "data": {
            "text/plain": [
              "setosa        50\n",
              "versicolor    50\n",
              "virginica     50\n",
              "Name: species, dtype: int64"
            ]
          },
          "metadata": {},
          "execution_count": 5
        }
      ]
    },
    {
      "cell_type": "markdown",
      "metadata": {
        "id": "CTsEx4aldyUK"
      },
      "source": [
        "O dataset é composto de 150 flores (exemplos), 50 de cada espécie (classe)."
      ]
    },
    {
      "cell_type": "markdown",
      "metadata": {
        "id": "tRBHiA0QeNc6"
      },
      "source": [
        "> **As características estatísticas básicas das colunas numéricas.**\n",
        "\n",
        "Por meio do método **describe**, é possível visualizar a média, o desvio padrão, máximo e mínimo, e os percentis para cada um dos recursos."
      ]
    },
    {
      "cell_type": "code",
      "metadata": {
        "id": "bEMRu46meTyP",
        "colab": {
          "base_uri": "https://localhost:8080/",
          "height": 300
        },
        "outputId": "b714192a-31e8-48f6-c51f-b0a8f97a3bc8"
      },
      "source": [
        "\"\"\"\n",
        "Prática de Aprendizado de Máquina\n",
        "\n",
        "Descrição do código:\n",
        "- Chama o método describe no dataset iris, que exibe informações descritivas\n",
        "    por coluna do dataset, como count, média, desvio padrão, mínimo, máximo e\n",
        "    percentis.\n",
        "\"\"\"\n",
        "iris.describe()"
      ],
      "execution_count": null,
      "outputs": [
        {
          "output_type": "execute_result",
          "data": {
            "text/plain": [
              "       sepal_length  sepal_width  petal_length  petal_width\n",
              "count    150.000000   150.000000    150.000000   150.000000\n",
              "mean       5.843333     3.057333      3.758000     1.199333\n",
              "std        0.828066     0.435866      1.765298     0.762238\n",
              "min        4.300000     2.000000      1.000000     0.100000\n",
              "25%        5.100000     2.800000      1.600000     0.300000\n",
              "50%        5.800000     3.000000      4.350000     1.300000\n",
              "75%        6.400000     3.300000      5.100000     1.800000\n",
              "max        7.900000     4.400000      6.900000     2.500000"
            ],
            "text/html": [
              "\n",
              "  <div id=\"df-aedc0201-a16f-4c29-9a2b-40c01b2e4e8f\">\n",
              "    <div class=\"colab-df-container\">\n",
              "      <div>\n",
              "<style scoped>\n",
              "    .dataframe tbody tr th:only-of-type {\n",
              "        vertical-align: middle;\n",
              "    }\n",
              "\n",
              "    .dataframe tbody tr th {\n",
              "        vertical-align: top;\n",
              "    }\n",
              "\n",
              "    .dataframe thead th {\n",
              "        text-align: right;\n",
              "    }\n",
              "</style>\n",
              "<table border=\"1\" class=\"dataframe\">\n",
              "  <thead>\n",
              "    <tr style=\"text-align: right;\">\n",
              "      <th></th>\n",
              "      <th>sepal_length</th>\n",
              "      <th>sepal_width</th>\n",
              "      <th>petal_length</th>\n",
              "      <th>petal_width</th>\n",
              "    </tr>\n",
              "  </thead>\n",
              "  <tbody>\n",
              "    <tr>\n",
              "      <th>count</th>\n",
              "      <td>150.000000</td>\n",
              "      <td>150.000000</td>\n",
              "      <td>150.000000</td>\n",
              "      <td>150.000000</td>\n",
              "    </tr>\n",
              "    <tr>\n",
              "      <th>mean</th>\n",
              "      <td>5.843333</td>\n",
              "      <td>3.057333</td>\n",
              "      <td>3.758000</td>\n",
              "      <td>1.199333</td>\n",
              "    </tr>\n",
              "    <tr>\n",
              "      <th>std</th>\n",
              "      <td>0.828066</td>\n",
              "      <td>0.435866</td>\n",
              "      <td>1.765298</td>\n",
              "      <td>0.762238</td>\n",
              "    </tr>\n",
              "    <tr>\n",
              "      <th>min</th>\n",
              "      <td>4.300000</td>\n",
              "      <td>2.000000</td>\n",
              "      <td>1.000000</td>\n",
              "      <td>0.100000</td>\n",
              "    </tr>\n",
              "    <tr>\n",
              "      <th>25%</th>\n",
              "      <td>5.100000</td>\n",
              "      <td>2.800000</td>\n",
              "      <td>1.600000</td>\n",
              "      <td>0.300000</td>\n",
              "    </tr>\n",
              "    <tr>\n",
              "      <th>50%</th>\n",
              "      <td>5.800000</td>\n",
              "      <td>3.000000</td>\n",
              "      <td>4.350000</td>\n",
              "      <td>1.300000</td>\n",
              "    </tr>\n",
              "    <tr>\n",
              "      <th>75%</th>\n",
              "      <td>6.400000</td>\n",
              "      <td>3.300000</td>\n",
              "      <td>5.100000</td>\n",
              "      <td>1.800000</td>\n",
              "    </tr>\n",
              "    <tr>\n",
              "      <th>max</th>\n",
              "      <td>7.900000</td>\n",
              "      <td>4.400000</td>\n",
              "      <td>6.900000</td>\n",
              "      <td>2.500000</td>\n",
              "    </tr>\n",
              "  </tbody>\n",
              "</table>\n",
              "</div>\n",
              "      <button class=\"colab-df-convert\" onclick=\"convertToInteractive('df-aedc0201-a16f-4c29-9a2b-40c01b2e4e8f')\"\n",
              "              title=\"Convert this dataframe to an interactive table.\"\n",
              "              style=\"display:none;\">\n",
              "        \n",
              "  <svg xmlns=\"http://www.w3.org/2000/svg\" height=\"24px\"viewBox=\"0 0 24 24\"\n",
              "       width=\"24px\">\n",
              "    <path d=\"M0 0h24v24H0V0z\" fill=\"none\"/>\n",
              "    <path d=\"M18.56 5.44l.94 2.06.94-2.06 2.06-.94-2.06-.94-.94-2.06-.94 2.06-2.06.94zm-11 1L8.5 8.5l.94-2.06 2.06-.94-2.06-.94L8.5 2.5l-.94 2.06-2.06.94zm10 10l.94 2.06.94-2.06 2.06-.94-2.06-.94-.94-2.06-.94 2.06-2.06.94z\"/><path d=\"M17.41 7.96l-1.37-1.37c-.4-.4-.92-.59-1.43-.59-.52 0-1.04.2-1.43.59L10.3 9.45l-7.72 7.72c-.78.78-.78 2.05 0 2.83L4 21.41c.39.39.9.59 1.41.59.51 0 1.02-.2 1.41-.59l7.78-7.78 2.81-2.81c.8-.78.8-2.07 0-2.86zM5.41 20L4 18.59l7.72-7.72 1.47 1.35L5.41 20z\"/>\n",
              "  </svg>\n",
              "      </button>\n",
              "      \n",
              "  <style>\n",
              "    .colab-df-container {\n",
              "      display:flex;\n",
              "      flex-wrap:wrap;\n",
              "      gap: 12px;\n",
              "    }\n",
              "\n",
              "    .colab-df-convert {\n",
              "      background-color: #E8F0FE;\n",
              "      border: none;\n",
              "      border-radius: 50%;\n",
              "      cursor: pointer;\n",
              "      display: none;\n",
              "      fill: #1967D2;\n",
              "      height: 32px;\n",
              "      padding: 0 0 0 0;\n",
              "      width: 32px;\n",
              "    }\n",
              "\n",
              "    .colab-df-convert:hover {\n",
              "      background-color: #E2EBFA;\n",
              "      box-shadow: 0px 1px 2px rgba(60, 64, 67, 0.3), 0px 1px 3px 1px rgba(60, 64, 67, 0.15);\n",
              "      fill: #174EA6;\n",
              "    }\n",
              "\n",
              "    [theme=dark] .colab-df-convert {\n",
              "      background-color: #3B4455;\n",
              "      fill: #D2E3FC;\n",
              "    }\n",
              "\n",
              "    [theme=dark] .colab-df-convert:hover {\n",
              "      background-color: #434B5C;\n",
              "      box-shadow: 0px 1px 3px 1px rgba(0, 0, 0, 0.15);\n",
              "      filter: drop-shadow(0px 1px 2px rgba(0, 0, 0, 0.3));\n",
              "      fill: #FFFFFF;\n",
              "    }\n",
              "  </style>\n",
              "\n",
              "      <script>\n",
              "        const buttonEl =\n",
              "          document.querySelector('#df-aedc0201-a16f-4c29-9a2b-40c01b2e4e8f button.colab-df-convert');\n",
              "        buttonEl.style.display =\n",
              "          google.colab.kernel.accessAllowed ? 'block' : 'none';\n",
              "\n",
              "        async function convertToInteractive(key) {\n",
              "          const element = document.querySelector('#df-aedc0201-a16f-4c29-9a2b-40c01b2e4e8f');\n",
              "          const dataTable =\n",
              "            await google.colab.kernel.invokeFunction('convertToInteractive',\n",
              "                                                     [key], {});\n",
              "          if (!dataTable) return;\n",
              "\n",
              "          const docLinkHtml = 'Like what you see? Visit the ' +\n",
              "            '<a target=\"_blank\" href=https://colab.research.google.com/notebooks/data_table.ipynb>data table notebook</a>'\n",
              "            + ' to learn more about interactive tables.';\n",
              "          element.innerHTML = '';\n",
              "          dataTable['output_type'] = 'display_data';\n",
              "          await google.colab.output.renderOutput(dataTable, element);\n",
              "          const docLink = document.createElement('div');\n",
              "          docLink.innerHTML = docLinkHtml;\n",
              "          element.appendChild(docLink);\n",
              "        }\n",
              "      </script>\n",
              "    </div>\n",
              "  </div>\n",
              "  "
            ]
          },
          "metadata": {},
          "execution_count": 6
        }
      ]
    },
    {
      "cell_type": "markdown",
      "metadata": {
        "id": "7jO_5cYSgo48"
      },
      "source": [
        "Está bem claro que cada atributo contrasta com os outros. Porém, neste caso, todos os cálculos consideram os exemplos das 3 classes juntos. A utilização de gráficos seria mais adequada para uma análise exploratória."
      ]
    },
    {
      "cell_type": "markdown",
      "metadata": {
        "id": "PUjEc6MuhL5G"
      },
      "source": [
        "O método **info** fornece informações extras sobre o dataframe e o tipo de dados para cada coluna:\n",
        "* os atributos são do tipo float64\n",
        "* o alvo, classe ou espécie, do tipo objeto"
      ]
    },
    {
      "cell_type": "code",
      "metadata": {
        "id": "NwJRzA69hMGV",
        "colab": {
          "base_uri": "https://localhost:8080/"
        },
        "outputId": "ade4b1de-ad01-41c5-9783-f671fdb95e95"
      },
      "source": [
        "\"\"\"\n",
        "Prática de Aprendizado de Máquina\n",
        "\n",
        "Descrição do código:\n",
        "- Exibe mais informações sobre o dataset através de info, é possível verificar\n",
        "    o tipo dos dados no dataset, quantos valores as colunas possuem,  se há\n",
        "    valores não-nulos (olhando RangeIndex e quantia de valores não-nulos).\n",
        "\"\"\"\n",
        "iris.info()"
      ],
      "execution_count": null,
      "outputs": [
        {
          "output_type": "stream",
          "name": "stdout",
          "text": [
            "<class 'pandas.core.frame.DataFrame'>\n",
            "RangeIndex: 150 entries, 0 to 149\n",
            "Data columns (total 5 columns):\n",
            " #   Column        Non-Null Count  Dtype  \n",
            "---  ------        --------------  -----  \n",
            " 0   sepal_length  150 non-null    float64\n",
            " 1   sepal_width   150 non-null    float64\n",
            " 2   petal_length  150 non-null    float64\n",
            " 3   petal_width   150 non-null    float64\n",
            " 4   species       150 non-null    object \n",
            "dtypes: float64(4), object(1)\n",
            "memory usage: 6.0+ KB\n"
          ]
        }
      ]
    },
    {
      "cell_type": "markdown",
      "metadata": {
        "id": "6cbS5kTqiPf8"
      },
      "source": [
        "O método **isnull** combinado com o método **sum** retorna se há algum valor nulo no dataframe que deva ser gerenciado, caso contrário, pode implicar na impossibilidade de aplicar qualquer algoritmo de aprendizado de máquina."
      ]
    },
    {
      "cell_type": "code",
      "metadata": {
        "id": "LKpCGE0EonsC",
        "colab": {
          "base_uri": "https://localhost:8080/"
        },
        "outputId": "f66d0b4e-244b-4ce6-e79a-8fc3c0a95591"
      },
      "source": [
        "\"\"\"\n",
        "Prática de Aprendizado de Máquina\n",
        "\n",
        "Descrição do código:\n",
        "- Verifica se há valores nulos, realizando a soma no is_null\n",
        "    que valida se os valores no DataFrame são nulos. Como o resultado\n",
        "    é zero, não há valores nulos.\n",
        "\"\"\"\n",
        "iris.isnull().sum()"
      ],
      "execution_count": null,
      "outputs": [
        {
          "output_type": "execute_result",
          "data": {
            "text/plain": [
              "sepal_length    0\n",
              "sepal_width     0\n",
              "petal_length    0\n",
              "petal_width     0\n",
              "species         0\n",
              "dtype: int64"
            ]
          },
          "metadata": {},
          "execution_count": 8
        }
      ]
    },
    {
      "cell_type": "markdown",
      "metadata": {
        "id": "V3wvu6ARnohz"
      },
      "source": [
        "> # **Análise Exploratória por Gráficos**\n",
        "\n",
        "**Seaborn** é uma biblioteca de visualização de dados Python baseada em **Matplotlib**. Ela fornece uma interface de alto nível para desenhar gráficos estatísticos atraentes e informativos.\n"
      ]
    },
    {
      "cell_type": "code",
      "metadata": {
        "id": "6W4h9yj4Whp-",
        "colab": {
          "base_uri": "https://localhost:8080/",
          "height": 1000
        },
        "outputId": "59145443-5a45-401c-867e-92bf17b07303"
      },
      "source": [
        "\"\"\"\n",
        "Prática de Aprendizado de Máquina\n",
        "\n",
        "Descrição do código:\n",
        "- Chama o pairplot do Seaborn que plota gráficos mostrando a relação das variáveis\n",
        "    aos pares do dataset;\n",
        "    - Gráficos de distribuição dos dados são impressos como histogramas;\n",
        "    - Gráficos de reçãoa das variáveis com outra variável são impressos\n",
        "        como scatter plot;\n",
        "\n",
        "É uma visualização bastante útil para analisar o dataset, é fácil perceber\n",
        "    como a espécie setosa possui um agrupamento muito bem definido na relação\n",
        "    petal_length e petal_width.\n",
        "\"\"\"\n",
        "sns.pairplot(iris, hue=\"species\", corner=True, kind='reg')"
      ],
      "execution_count": 6,
      "outputs": [
        {
          "output_type": "execute_result",
          "data": {
            "text/plain": [
              "<seaborn.axisgrid.PairGrid at 0x7ff8fc42b520>"
            ]
          },
          "metadata": {},
          "execution_count": 6
        },
        {
          "output_type": "display_data",
          "data": {
            "text/plain": [
              "<Figure size 1117.75x1000 with 14 Axes>"
            ],
            "image/png": "[encoded data removed]"
          },
          "metadata": {}
        }
      ]
    },
    {
      "cell_type": "markdown",
      "metadata": {
        "id": "fBHa6keBbvRM"
      },
      "source": [
        "> ## **Identificação Setosa**\n",
        "\n",
        "**Iris-setosa**, **iris-virginica** e **iris-versicolor** têm a mesma cor (violeta/azul). Uma forma de distinguir as espécies é analisando suas dimensões de pétalas e sépalas e as proporções destas. Juntamente com uma análise exploratória dos dados é possível obter informações valiosas e algumas conclusões. Segue.\n",
        "\n",
        "Como visto nos gráficos acima, os dados de **iris-setosa** são bem distintos das outras duas espécies. Com uma distribuição de dados como essa, espera-se de qualquer bom algoritmo preditivo de aprendizado de máquina uma alta acurácia, talvez 100%. Ou melhor, para a classificação desta espécie em relação às outras duas, **basta verificar as dimensões das pétalas**; se seu comprimento for de até 2 cm ou sua largura for de até 0,7 cm, com certeza é íris-setosa.\n"
      ]
    },
    {
      "cell_type": "code",
      "metadata": {
        "id": "kopB6UVm2Q3j",
        "colab": {
          "base_uri": "https://localhost:8080/"
        },
        "outputId": "9c2285fa-e624-4ba0-b2ca-40bdc3e3bfe1"
      },
      "source": [
        "\"\"\"\n",
        "Prática de Aprendizado de Máquina\n",
        "\n",
        "Descrição do código:\n",
        "- Realiza interpolação na string com resultado de algus métodos em cima do df.\n",
        "\n",
        "É útil para extrair o valor máximo dado uma classse, ou mínimo dado\n",
        "duas classes como no exemplo. Uma boa forma de extrair conclusões do dataset\n",
        "de forma programática e fácil para humanos lerem.\n",
        "\"\"\"\n",
        "print('Para a flor Setosa, valor máximo de comprimento da pétala nesse dataset é', iris.loc[iris.species=='setosa'].max().petal_length, 'cm, enquanto que para as outras espécies o valor mínimo é', iris.loc[(iris.species=='virginica') | (iris.species=='versicolor')].min().petal_length, 'cm.\\nQuanto à largura da pétala, o valor máximo para a Setosa é', iris.loc[iris.species=='setosa'].max().petal_width, 'cm, e para as outras espécies o valor mínimo é', iris.loc[(iris.species=='virginica') | (iris.species=='versicolor')].min().petal_width, 'cm.')"
      ],
      "execution_count": 7,
      "outputs": [
        {
          "output_type": "stream",
          "name": "stdout",
          "text": [
            "Para a flor Setosa, valor máximo de comprimento da pétala nesse dataset é 1.9 cm, enquanto que para as outras espécies o valor mínimo é 3.0 cm.\n",
            "Quanto à largura da pétala, o valor máximo para a Setosa é 0.6 cm, e para as outras espécies o valor mínimo é 1.0 cm.\n"
          ]
        }
      ]
    },
    {
      "cell_type": "code",
      "metadata": {
        "id": "OnfaCOnmq7XQ",
        "colab": {
          "base_uri": "https://localhost:8080/",
          "height": 403
        },
        "outputId": "14673d2c-f8aa-4674-b548-b3670f92c713"
      },
      "source": [
        "\"\"\"\n",
        "Prática de Aprendizado de Máquina\n",
        "\n",
        "Descrição do código:\n",
        "- Calcula os valores mínimo e máximo das colunas 'petal_length' e 'petal_width'\n",
        "    para cada classe do dataset e exibe esses resultados em duas tabelas\n",
        "    pivot separadas.\n",
        "\"\"\"\n",
        "from IPython.display import display\n",
        "p_l = pd.pivot_table(iris, values=['petal_length'], index=['species'],aggfunc=[min,max], margins=False)\n",
        "p_w = pd.pivot_table(iris, values=['petal_width'], index=['species'],aggfunc=[min,max], margins=False)\n",
        "P_L = pd.DataFrame(p_l.to_records())\n",
        "P_W = pd.DataFrame(p_w.to_records())\n",
        "display(P_L),display(P_W)\n"
      ],
      "execution_count": 8,
      "outputs": [
        {
          "output_type": "display_data",
          "data": {
            "text/plain": [
              "      species  ('min', 'petal_length')  ('max', 'petal_length')\n",
              "0      setosa                      1.0                      1.9\n",
              "1  versicolor                      3.0                      5.1\n",
              "2   virginica                      4.5                      6.9"
            ],
            "text/html": [
              "\n",
              "  <div id=\"df-383a64d8-4082-4a8f-a08c-559f721cfbe7\">\n",
              "    <div class=\"colab-df-container\">\n",
              "      <div>\n",
              "<style scoped>\n",
              "    .dataframe tbody tr th:only-of-type {\n",
              "        vertical-align: middle;\n",
              "    }\n",
              "\n",
              "    .dataframe tbody tr th {\n",
              "        vertical-align: top;\n",
              "    }\n",
              "\n",
              "    .dataframe thead th {\n",
              "        text-align: right;\n",
              "    }\n",
              "</style>\n",
              "<table border=\"1\" class=\"dataframe\">\n",
              "  <thead>\n",
              "    <tr style=\"text-align: right;\">\n",
              "      <th></th>\n",
              "      <th>species</th>\n",
              "      <th>('min', 'petal_length')</th>\n",
              "      <th>('max', 'petal_length')</th>\n",
              "    </tr>\n",
              "  </thead>\n",
              "  <tbody>\n",
              "    <tr>\n",
              "      <th>0</th>\n",
              "      <td>setosa</td>\n",
              "      <td>1.0</td>\n",
              "      <td>1.9</td>\n",
              "    </tr>\n",
              "    <tr>\n",
              "      <th>1</th>\n",
              "      <td>versicolor</td>\n",
              "      <td>3.0</td>\n",
              "      <td>5.1</td>\n",
              "    </tr>\n",
              "    <tr>\n",
              "      <th>2</th>\n",
              "      <td>virginica</td>\n",
              "      <td>4.5</td>\n",
              "      <td>6.9</td>\n",
              "    </tr>\n",
              "  </tbody>\n",
              "</table>\n",
              "</div>\n",
              "      <button class=\"colab-df-convert\" onclick=\"convertToInteractive('df-383a64d8-4082-4a8f-a08c-559f721cfbe7')\"\n",
              "              title=\"Convert this dataframe to an interactive table.\"\n",
              "              style=\"display:none;\">\n",
              "        \n",
              "  <svg xmlns=\"http://www.w3.org/2000/svg\" height=\"24px\"viewBox=\"0 0 24 24\"\n",
              "       width=\"24px\">\n",
              "    <path d=\"M0 0h24v24H0V0z\" fill=\"none\"/>\n",
              "    <path d=\"M18.56 5.44l.94 2.06.94-2.06 2.06-.94-2.06-.94-.94-2.06-.94 2.06-2.06.94zm-11 1L8.5 8.5l.94-2.06 2.06-.94-2.06-.94L8.5 2.5l-.94 2.06-2.06.94zm10 10l.94 2.06.94-2.06 2.06-.94-2.06-.94-.94-2.06-.94 2.06-2.06.94z\"/><path d=\"M17.41 7.96l-1.37-1.37c-.4-.4-.92-.59-1.43-.59-.52 0-1.04.2-1.43.59L10.3 9.45l-7.72 7.72c-.78.78-.78 2.05 0 2.83L4 21.41c.39.39.9.59 1.41.59.51 0 1.02-.2 1.41-.59l7.78-7.78 2.81-2.81c.8-.78.8-2.07 0-2.86zM5.41 20L4 18.59l7.72-7.72 1.47 1.35L5.41 20z\"/>\n",
              "  </svg>\n",
              "      </button>\n",
              "      \n",
              "  <style>\n",
              "    .colab-df-container {\n",
              "      display:flex;\n",
              "      flex-wrap:wrap;\n",
              "      gap: 12px;\n",
              "    }\n",
              "\n",
              "    .colab-df-convert {\n",
              "      background-color: #E8F0FE;\n",
              "      border: none;\n",
              "      border-radius: 50%;\n",
              "      cursor: pointer;\n",
              "      display: none;\n",
              "      fill: #1967D2;\n",
              "      height: 32px;\n",
              "      padding: 0 0 0 0;\n",
              "      width: 32px;\n",
              "    }\n",
              "\n",
              "    .colab-df-convert:hover {\n",
              "      background-color: #E2EBFA;\n",
              "      box-shadow: 0px 1px 2px rgba(60, 64, 67, 0.3), 0px 1px 3px 1px rgba(60, 64, 67, 0.15);\n",
              "      fill: #174EA6;\n",
              "    }\n",
              "\n",
              "    [theme=dark] .colab-df-convert {\n",
              "      background-color: #3B4455;\n",
              "      fill: #D2E3FC;\n",
              "    }\n",
              "\n",
              "    [theme=dark] .colab-df-convert:hover {\n",
              "      background-color: #434B5C;\n",
              "      box-shadow: 0px 1px 3px 1px rgba(0, 0, 0, 0.15);\n",
              "      filter: drop-shadow(0px 1px 2px rgba(0, 0, 0, 0.3));\n",
              "      fill: #FFFFFF;\n",
              "    }\n",
              "  </style>\n",
              "\n",
              "      <script>\n",
              "        const buttonEl =\n",
              "          document.querySelector('#df-383a64d8-4082-4a8f-a08c-559f721cfbe7 button.colab-df-convert');\n",
              "        buttonEl.style.display =\n",
              "          google.colab.kernel.accessAllowed ? 'block' : 'none';\n",
              "\n",
              "        async function convertToInteractive(key) {\n",
              "          const element = document.querySelector('#df-383a64d8-4082-4a8f-a08c-559f721cfbe7');\n",
              "          const dataTable =\n",
              "            await google.colab.kernel.invokeFunction('convertToInteractive',\n",
              "                                                     [key], {});\n",
              "          if (!dataTable) return;\n",
              "\n",
              "          const docLinkHtml = 'Like what you see? Visit the ' +\n",
              "            '<a target=\"_blank\" href=https://colab.research.google.com/notebooks/data_table.ipynb>data table notebook</a>'\n",
              "            + ' to learn more about interactive tables.';\n",
              "          element.innerHTML = '';\n",
              "          dataTable['output_type'] = 'display_data';\n",
              "          await google.colab.output.renderOutput(dataTable, element);\n",
              "          const docLink = document.createElement('div');\n",
              "          docLink.innerHTML = docLinkHtml;\n",
              "          element.appendChild(docLink);\n",
              "        }\n",
              "      </script>\n",
              "    </div>\n",
              "  </div>\n",
              "  "
            ]
          },
          "metadata": {}
        },
        {
          "output_type": "display_data",
          "data": {
            "text/plain": [
              "      species  ('min', 'petal_width')  ('max', 'petal_width')\n",
              "0      setosa                     0.1                     0.6\n",
              "1  versicolor                     1.0                     1.8\n",
              "2   virginica                     1.4                     2.5"
            ],
            "text/html": [
              "\n",
              "  <div id=\"df-4099be64-9b45-48f6-9279-bce1e523def2\">\n",
              "    <div class=\"colab-df-container\">\n",
              "      <div>\n",
              "<style scoped>\n",
              "    .dataframe tbody tr th:only-of-type {\n",
              "        vertical-align: middle;\n",
              "    }\n",
              "\n",
              "    .dataframe tbody tr th {\n",
              "        vertical-align: top;\n",
              "    }\n",
              "\n",
              "    .dataframe thead th {\n",
              "        text-align: right;\n",
              "    }\n",
              "</style>\n",
              "<table border=\"1\" class=\"dataframe\">\n",
              "  <thead>\n",
              "    <tr style=\"text-align: right;\">\n",
              "      <th></th>\n",
              "      <th>species</th>\n",
              "      <th>('min', 'petal_width')</th>\n",
              "      <th>('max', 'petal_width')</th>\n",
              "    </tr>\n",
              "  </thead>\n",
              "  <tbody>\n",
              "    <tr>\n",
              "      <th>0</th>\n",
              "      <td>setosa</td>\n",
              "      <td>0.1</td>\n",
              "      <td>0.6</td>\n",
              "    </tr>\n",
              "    <tr>\n",
              "      <th>1</th>\n",
              "      <td>versicolor</td>\n",
              "      <td>1.0</td>\n",
              "      <td>1.8</td>\n",
              "    </tr>\n",
              "    <tr>\n",
              "      <th>2</th>\n",
              "      <td>virginica</td>\n",
              "      <td>1.4</td>\n",
              "      <td>2.5</td>\n",
              "    </tr>\n",
              "  </tbody>\n",
              "</table>\n",
              "</div>\n",
              "      <button class=\"colab-df-convert\" onclick=\"convertToInteractive('df-4099be64-9b45-48f6-9279-bce1e523def2')\"\n",
              "              title=\"Convert this dataframe to an interactive table.\"\n",
              "              style=\"display:none;\">\n",
              "        \n",
              "  <svg xmlns=\"http://www.w3.org/2000/svg\" height=\"24px\"viewBox=\"0 0 24 24\"\n",
              "       width=\"24px\">\n",
              "    <path d=\"M0 0h24v24H0V0z\" fill=\"none\"/>\n",
              "    <path d=\"M18.56 5.44l.94 2.06.94-2.06 2.06-.94-2.06-.94-.94-2.06-.94 2.06-2.06.94zm-11 1L8.5 8.5l.94-2.06 2.06-.94-2.06-.94L8.5 2.5l-.94 2.06-2.06.94zm10 10l.94 2.06.94-2.06 2.06-.94-2.06-.94-.94-2.06-.94 2.06-2.06.94z\"/><path d=\"M17.41 7.96l-1.37-1.37c-.4-.4-.92-.59-1.43-.59-.52 0-1.04.2-1.43.59L10.3 9.45l-7.72 7.72c-.78.78-.78 2.05 0 2.83L4 21.41c.39.39.9.59 1.41.59.51 0 1.02-.2 1.41-.59l7.78-7.78 2.81-2.81c.8-.78.8-2.07 0-2.86zM5.41 20L4 18.59l7.72-7.72 1.47 1.35L5.41 20z\"/>\n",
              "  </svg>\n",
              "      </button>\n",
              "      \n",
              "  <style>\n",
              "    .colab-df-container {\n",
              "      display:flex;\n",
              "      flex-wrap:wrap;\n",
              "      gap: 12px;\n",
              "    }\n",
              "\n",
              "    .colab-df-convert {\n",
              "      background-color: #E8F0FE;\n",
              "      border: none;\n",
              "      border-radius: 50%;\n",
              "      cursor: pointer;\n",
              "      display: none;\n",
              "      fill: #1967D2;\n",
              "      height: 32px;\n",
              "      padding: 0 0 0 0;\n",
              "      width: 32px;\n",
              "    }\n",
              "\n",
              "    .colab-df-convert:hover {\n",
              "      background-color: #E2EBFA;\n",
              "      box-shadow: 0px 1px 2px rgba(60, 64, 67, 0.3), 0px 1px 3px 1px rgba(60, 64, 67, 0.15);\n",
              "      fill: #174EA6;\n",
              "    }\n",
              "\n",
              "    [theme=dark] .colab-df-convert {\n",
              "      background-color: #3B4455;\n",
              "      fill: #D2E3FC;\n",
              "    }\n",
              "\n",
              "    [theme=dark] .colab-df-convert:hover {\n",
              "      background-color: #434B5C;\n",
              "      box-shadow: 0px 1px 3px 1px rgba(0, 0, 0, 0.15);\n",
              "      filter: drop-shadow(0px 1px 2px rgba(0, 0, 0, 0.3));\n",
              "      fill: #FFFFFF;\n",
              "    }\n",
              "  </style>\n",
              "\n",
              "      <script>\n",
              "        const buttonEl =\n",
              "          document.querySelector('#df-4099be64-9b45-48f6-9279-bce1e523def2 button.colab-df-convert');\n",
              "        buttonEl.style.display =\n",
              "          google.colab.kernel.accessAllowed ? 'block' : 'none';\n",
              "\n",
              "        async function convertToInteractive(key) {\n",
              "          const element = document.querySelector('#df-4099be64-9b45-48f6-9279-bce1e523def2');\n",
              "          const dataTable =\n",
              "            await google.colab.kernel.invokeFunction('convertToInteractive',\n",
              "                                                     [key], {});\n",
              "          if (!dataTable) return;\n",
              "\n",
              "          const docLinkHtml = 'Like what you see? Visit the ' +\n",
              "            '<a target=\"_blank\" href=https://colab.research.google.com/notebooks/data_table.ipynb>data table notebook</a>'\n",
              "            + ' to learn more about interactive tables.';\n",
              "          element.innerHTML = '';\n",
              "          dataTable['output_type'] = 'display_data';\n",
              "          await google.colab.output.renderOutput(dataTable, element);\n",
              "          const docLink = document.createElement('div');\n",
              "          docLink.innerHTML = docLinkHtml;\n",
              "          element.appendChild(docLink);\n",
              "        }\n",
              "      </script>\n",
              "    </div>\n",
              "  </div>\n",
              "  "
            ]
          },
          "metadata": {}
        },
        {
          "output_type": "execute_result",
          "data": {
            "text/plain": [
              "(None, None)"
            ]
          },
          "metadata": {},
          "execution_count": 8
        }
      ]
    },
    {
      "cell_type": "markdown",
      "metadata": {
        "id": "JeI_zlL-bjrI"
      },
      "source": [
        "> ## **Identificação de Virgínia e Versicolor**\n",
        "\n",
        "Para as outras duas espécies. Os dados de **iris-versicolor** e **iris-virginica**, ao mesmo tempo que são próximos, é notório um claro valor normal para todas as suas dimensões, exceto para a largura da sépala que é quase a mesma para ambas as espécies. Devido a isso, é possível distinguir com uma alta porcentagem de precisão quando se refere às seguintes relações:\n",
        "\n",
        "* Comprimento da pétala **vs** Comprimento da sépala ou largura da sépala\n",
        "* Largura da pétala **vs** Largura da sépala ou Largura da sépala ou Comprimento da pétala\n",
        "\n",
        "A única relação que é quase a mesma, e não poderia, por meio de uma análise exploratória, distinguir as duas espécies, já que as dimensões e a proporção entre comprimento e largura são praticamente as mesmas é:\n",
        "\n",
        "* Comprimento da Sépala **vs** Largura da Sépala\n",
        "\n",
        "Um algoritmo de Machine Learning é de grande utilidade para essa classificação, reduzindo qualquer erro humano ao comparar todas essas dimensões e relacionamentos.\n",
        "\n"
      ]
    },
    {
      "cell_type": "code",
      "metadata": {
        "id": "jXwkS_xe_Ez4",
        "colab": {
          "base_uri": "https://localhost:8080/",
          "height": 1000
        },
        "outputId": "ffc350c9-cf48-494c-ef71-49d68948843d"
      },
      "source": [
        "\"\"\"\n",
        "Prática de Aprendizado de Máquina\n",
        "\n",
        "Descrição do código:\n",
        "- Plota os gráficos somente para as espécies Virgínia e Versicolor, embora tenham\n",
        "    características próximas, é possível ver nos gráficos que existem diferenças,\n",
        "    embora no caso da análise de sepal_width vs sepal_length, a relação mostre\n",
        "    a dispersão das classes bastante sobreposta uma da outra.\n",
        "\"\"\"\n",
        "sns.pairplot(iris.loc[(iris.species=='virginica') | (iris.species=='versicolor')], hue=\"species\", corner=True, kind='reg')"
      ],
      "execution_count": 9,
      "outputs": [
        {
          "output_type": "execute_result",
          "data": {
            "text/plain": [
              "<seaborn.axisgrid.PairGrid at 0x7ff8f76eead0>"
            ]
          },
          "metadata": {},
          "execution_count": 9
        },
        {
          "output_type": "display_data",
          "data": {
            "text/plain": [
              "<Figure size 1117.75x1000 with 14 Axes>"
            ],
            "image/png": "[encoded data removed]"
          },
          "metadata": {}
        }
      ]
    },
    {
      "cell_type": "markdown",
      "metadata": {
        "id": "w7uWYwaf_sba"
      },
      "source": [
        "É notório que é possível identificar a espécie da maioria das flores, mas é desafiador para algumas delas. Por que não utilizar um algoritmo de ML para ajudar nesta tarefa?\n"
      ]
    },
    {
      "cell_type": "markdown",
      "metadata": {
        "id": "hbMpQp-TskKm"
      },
      "source": [
        "# **APRENDIZADO DE MÁQUINA - Análise Preditiva**\n",
        "\n",
        "Agora, a análise preditiva será realizada não por uma pessoa em si, mas com o auxílio de algoritmos de **aprendizado de máquina**. Mais especificamente, o problema será resolvido com o uso do algoritmo **KNN**. As melhores práticas serão realizadas e explicadas.\n",
        "\n",
        "Utilizaremos a biblioteca scikit-learn, uma biblioteca de aprendizado de máquina de código aberto que suporta aprendizado supervisionado e não supervisionado. Ela também fornece várias ferramentas para ajuste de modelo, pré-processamento de dados, seleção e avaliação de modelo e muitos outros utilitários."
      ]
    },
    {
      "cell_type": "markdown",
      "metadata": {
        "id": "B43pCr7AsxUs"
      },
      "source": [
        "> # **Dados de TREINO e TESTE**\n",
        "\n",
        "O primeiro passo para realizar uma análise preditiva por meio de um algoritmo de Machine Learning é separar os dados em duas partes. Um a ser **treinado**, então os coeficientes são calculados para o melhor ajuste a esses dados, de acordo com o algoritmo escolhido. A segunda parte é reservada para ser **testada**, assim é possível avaliar a capacidade de generalização do modelo, ou seja, ***avaliar a sua precisão*** para classificar exemplos ainda não vistos."
      ]
    },
    {
      "cell_type": "markdown",
      "metadata": {
        "id": "QCBqCSb8vR1N"
      },
      "source": [
        "> A escolha de quais partes dos dados serão usadas como treino e teste é muito importante. Vamos usar **70% como treino** e **30% como teste**.\n",
        "\n",
        "> ***Scikit-learn*** tem um método muito bom para isso, **train_test_split**; no entanto, toda vez que você executa esse método, ele retorna amostras diferentes, pois o torna aleatório, o que tornaria o mesmo problema impossível de ser replicado. A seleção dos dados pode produzir resultados ligeiramente diferentes para o algoritmo.**\n",
        "\n",
        "> ***Pandas*** tem uma solução para isso, uma uma divisão aleatória semeada do banco de dados. O método **sample** definido com **random_state=500** o tornaria replicável. Para enxergarem a diferença, executem testes com valores diferentes para random_state e *train_test_split*.\n",
        "\n",
        "> O resultado final é:\n",
        "\n",
        ">>* **X_train** e **y_train** **-** para treinamento, dados e alvo, respectivamente\n",
        ">>* **X_test** **-** dados para prever com o algoritmo\n",
        ">>* **y_test** **-** alvo para validação do modelo"
      ]
    },
    {
      "cell_type": "code",
      "metadata": {
        "id": "qvr0pNbu7sy7"
      },
      "source": [
        "\"\"\"\n",
        "Prática de Aprendizado de Máquina\n",
        "\n",
        "Descrição do código:\n",
        "- Separa 70% do dataset para treino, utilizando como seed o valor 500,\n",
        "    o seed serve para tornar esse slice reproduzível.\n",
        "\"\"\"\n",
        "train = iris.sample(frac=0.7, random_state=500) # random state is a seed value"
      ],
      "execution_count": 10,
      "outputs": []
    },
    {
      "cell_type": "code",
      "metadata": {
        "id": "KEHlhB3R772O"
      },
      "source": [
        "\"\"\"\n",
        "Prática de Aprendizado de Máquina\n",
        "\n",
        "Descrição do código:\n",
        "- Dropa os index que são train, criando assim os outros 30% que serão test.\n",
        "\"\"\"\n",
        "test = iris.drop(train.index)"
      ],
      "execution_count": 11,
      "outputs": []
    },
    {
      "cell_type": "code",
      "metadata": {
        "id": "c64drfqw86pU"
      },
      "source": [
        "\"\"\"\n",
        "Prática de Aprendizado de Máquina\n",
        "\n",
        "Descrição do código:\n",
        "- Remove a coluna species do dataset, pois é o valor que contém as classes.\n",
        "\"\"\"\n",
        "X_train = train.drop(labels='species', axis=1)"
      ],
      "execution_count": 12,
      "outputs": []
    },
    {
      "cell_type": "code",
      "metadata": {
        "id": "uixkCTrD9B8l"
      },
      "source": [
        "\"\"\"\n",
        "Prática de Aprendizado de Máquina\n",
        "\n",
        "Descrição do código:\n",
        "- Armazena as classes de train na variável y_train\n",
        "\"\"\"\n",
        "y_train = train.species"
      ],
      "execution_count": 13,
      "outputs": []
    },
    {
      "cell_type": "code",
      "metadata": {
        "id": "O2Jw8Ki99CJp"
      },
      "source": [
        "\"\"\"\n",
        "Prática de Aprendizado de Máquina\n",
        "\n",
        "Descrição do código:\n",
        "- Armazena as classes de test na variável X_test\n",
        "\"\"\"\n",
        "X_test = test.drop(labels='species', axis=1)"
      ],
      "execution_count": 14,
      "outputs": []
    },
    {
      "cell_type": "code",
      "metadata": {
        "id": "wX4Ue05o9CS4"
      },
      "source": [
        "\"\"\"\n",
        "Prática de Aprendizado de Máquina\n",
        "\n",
        "Descrição do código:\n",
        "- Armazena as classes de test na variável y_test\n",
        "\"\"\"\n",
        "y_test = test.species"
      ],
      "execution_count": 15,
      "outputs": []
    },
    {
      "cell_type": "markdown",
      "metadata": {
        "id": "uOXdibcpM1u2"
      },
      "source": [
        "> **o método train_test_split também possui um método de divisão aleatória semeado, mas não o mesmo, portanto, a mesma semente representa dados diferentes do método de amostra do Pandas.\n",
        "\n",
        "> Segue a opção de usar o train_test_split: simples, código de uma linha:\n",
        "\n",
        ">>>**from** sklearn.model_selection **import** train_test_split\n",
        "\n",
        ">>>X_train,  X_test,  y_train,  y_test = train_test_split ( iris.drop ( 'species' ,axis = 1 ) , iris [ 'species' ] , test_size = 0.3, random_state = 1 )"
      ]
    },
    {
      "cell_type": "markdown",
      "metadata": {
        "id": "O1kwqKAVx9yT"
      },
      "source": [
        "> A seguir, é apresentada uma amostra das primeiras 5 linhas dos dados do treino.\n",
        "\n",
        "* Toda vez que o método *train_test_split* é executado, uma *amostra diferente* para teste e treinamento é selecionada, pois trabalha aleatoriamente com os dados. Assim, toda vez que você tiver dados de treino diferentes, o desempenho pode ser diferente. Para minimizar esse problema, são propostas diferentes técnicas (protocolos) para dividir os dados em treinamento/teste; uma das mais conhecidas é a chamada de **validação cruzada**, que será utilizada mais adiante.\n",
        "\n",
        "\n",
        "\n"
      ]
    },
    {
      "cell_type": "code",
      "metadata": {
        "id": "91pz99lGw1fa",
        "colab": {
          "base_uri": "https://localhost:8080/"
        },
        "outputId": "32de5690-ec6c-4231-9ed2-4b298a095fac"
      },
      "source": [
        "\"\"\"\n",
        "Prática de Aprendizado de Máquina\n",
        "\n",
        "Descrição do código:\n",
        "- Imprime as primeiras 5 instâncias do dataset de X_train e y_train.\n",
        "\"\"\"\n",
        "print(X_train.head(),\"\\n\", y_train.head())"
      ],
      "execution_count": 16,
      "outputs": [
        {
          "output_type": "stream",
          "name": "stdout",
          "text": [
            "     sepal_length  sepal_width  petal_length  petal_width\n",
            "7             5.0          3.4           1.5          0.2\n",
            "126           6.2          2.8           4.8          1.8\n",
            "136           6.3          3.4           5.6          2.4\n",
            "133           6.3          2.8           5.1          1.5\n",
            "66            5.6          3.0           4.5          1.5 \n",
            " 7          setosa\n",
            "126     virginica\n",
            "136     virginica\n",
            "133     virginica\n",
            "66     versicolor\n",
            "Name: species, dtype: object\n"
          ]
        }
      ]
    },
    {
      "cell_type": "markdown",
      "metadata": {
        "id": "r4g5C0WIyWOp"
      },
      "source": [
        "> A seguir, as dimensões dos dados após a divisão."
      ]
    },
    {
      "cell_type": "code",
      "metadata": {
        "id": "fDM1Q5NdyWZ8",
        "colab": {
          "base_uri": "https://localhost:8080/"
        },
        "outputId": "92278479-3242-4b78-833f-344f522a146d"
      },
      "source": [
        "\"\"\"\n",
        "Prática de Aprendizado de Máquina\n",
        "\n",
        "Descrição do código:\n",
        "- Mostra o shape do Data Frame de x treino e x teste.\n",
        "\"\"\"\n",
        "X_train.shape,X_test.shape"
      ],
      "execution_count": 17,
      "outputs": [
        {
          "output_type": "execute_result",
          "data": {
            "text/plain": [
              "((105, 4), (45, 4))"
            ]
          },
          "metadata": {},
          "execution_count": 17
        }
      ]
    },
    {
      "cell_type": "markdown",
      "metadata": {
        "id": "iFzzmRUHzU2X"
      },
      "source": [
        "105 linhas e 4 colunas para o treino; 45 linhas (30%) e 4 colunas para o teste."
      ]
    },
    {
      "cell_type": "code",
      "metadata": {
        "id": "cK631326ys4z",
        "colab": {
          "base_uri": "https://localhost:8080/"
        },
        "outputId": "789eeb5e-f206-4d31-8487-5ec9fe2ec00d"
      },
      "source": [
        "\"\"\"\n",
        "Prática de Aprendizado de Máquina\n",
        "\n",
        "Descrição do código:\n",
        "- Mostra o shape do Data Frame de y treino e y teste.\n",
        "\"\"\"\n",
        "y_train.shape,y_test.shape"
      ],
      "execution_count": 18,
      "outputs": [
        {
          "output_type": "execute_result",
          "data": {
            "text/plain": [
              "((105,), (45,))"
            ]
          },
          "metadata": {},
          "execution_count": 18
        }
      ]
    },
    {
      "cell_type": "markdown",
      "metadata": {
        "id": "hWApwZVhzXaY"
      },
      "source": [
        "105 e 45 linhas para treino e teste, respectivamente."
      ]
    },
    {
      "cell_type": "markdown",
      "metadata": {
        "id": "LTK9C7oepKaQ"
      },
      "source": [
        "# **KNN - K Nearest Neighbors (Vizinhos mais próximos)***\n",
        "\n",
        "No reconhecimento de padrões, o algoritmo k-vizinhos mais próximos (k-NN) é um método não paramétrico usado para classificação e regressão.\n",
        "\n",
        "> Na classificação k-NN, a saída é a atribuição de uma classe. Ao objeto atribuída a classe mais frequente dentre seus k vizinhos mais próximos (k é um inteiro positivo, geralmente pequeno). Se k = 1, então é atribuída ao objeto a classe do vizinho mais próximo.\n"
      ]
    },
    {
      "cell_type": "markdown",
      "metadata": {
        "id": "npGuJ9Rm23OX"
      },
      "source": [
        "> ## **Instanciando o Algoritmo KNN**\n",
        "\n",
        "O Classificador KNN (KNeighborsClassifier) é importado do Scikit-learn.\n",
        "\n",
        "O **KNeighborsClassifier** possui alguns parâmetros a serem ajustados para melhorar seu desempenho. A princípio, apenas o valor de k (n_neighbors) deve ser definido, enquanto os outros possuem valores definidos como padrão. Posteriormente, pode-se aplicar alguma técnica de ajuste de parâmetros.\n"
      ]
    },
    {
      "cell_type": "code",
      "metadata": {
        "id": "LNrj6ggnqUHn"
      },
      "source": [
        "\"\"\"\n",
        "Prática de Aprendizado de Máquina\n",
        "\n",
        "Descrição do código:\n",
        "- Importa KNeighborsClassifier\n",
        "\"\"\"\n",
        "from sklearn.neighbors import KNeighborsClassifier"
      ],
      "execution_count": 19,
      "outputs": []
    },
    {
      "cell_type": "code",
      "metadata": {
        "id": "tYLJNjGOQoks"
      },
      "source": [
        "\"\"\"\n",
        "Prática de Aprendizado de Máquina\n",
        "\n",
        "Descrição do código:\n",
        "- Inicia KNeighborsClassifier com n_neighbors igual a 3, número que será utilizado\n",
        "    por padrão para realizar as queries do knn.\n",
        "\"\"\"\n",
        "knn = KNeighborsClassifier(n_neighbors=3)"
      ],
      "execution_count": 20,
      "outputs": []
    },
    {
      "cell_type": "markdown",
      "metadata": {
        "id": "7OwWiuivqckw"
      },
      "source": [
        "k (n_neighbors) é configurado com o valor 3"
      ]
    },
    {
      "cell_type": "markdown",
      "metadata": {
        "id": "DIgmRaIh_Kbg"
      },
      "source": [
        "> ## **Treinando o algoritmo KNN**\n",
        "\n",
        "Nesta etapa o modelo é \"treinado\". Coloquei entre aspas porque, como sabemos, o kNN não cria uma representação simplificada do conhecimento adquirido. Ele  utiliza o conjunto de dados completo para calcular as distâncias e realizar as previsões.\n",
        "\n",
        "**Fit** é o método \"padrão\" utilizado pelo Scikit-Learn para ajustar um classificador aos dados."
      ]
    },
    {
      "cell_type": "code",
      "metadata": {
        "id": "IUQKvz7zpJil",
        "colab": {
          "base_uri": "https://localhost:8080/",
          "height": 75
        },
        "outputId": "1e7ddaa5-47d7-4316-abee-8cd90edd9029"
      },
      "source": [
        "\"\"\"\n",
        "Prática de Aprendizado de Máquina\n",
        "\n",
        "Descrição do código:\n",
        "- Chama o método fit para treinar o classificador, no caso do knn a base de dados\n",
        "    inteira é armazenada, e futuramente será utilizada para classificar novos\n",
        "    exemplos.\n",
        "\"\"\"\n",
        "knn.fit(X_train,y_train)"
      ],
      "execution_count": 21,
      "outputs": [
        {
          "output_type": "execute_result",
          "data": {
            "text/plain": [
              "KNeighborsClassifier(n_neighbors=3)"
            ],
            "text/html": [
              "<style>#sk-container-id-1 {color: black;background-color: white;}#sk-container-id-1 pre{padding: 0;}#sk-container-id-1 div.sk-toggleable {background-color: white;}#sk-container-id-1 label.sk-toggleable__label {cursor: pointer;display: block;width: 100%;margin-bottom: 0;padding: 0.3em;box-sizing: border-box;text-align: center;}#sk-container-id-1 label.sk-toggleable__label-arrow:before {content: \"▸\";float: left;margin-right: 0.25em;color: #696969;}#sk-container-id-1 label.sk-toggleable__label-arrow:hover:before {color: black;}#sk-container-id-1 div.sk-estimator:hover label.sk-toggleable__label-arrow:before {color: black;}#sk-container-id-1 div.sk-toggleable__content {max-height: 0;max-width: 0;overflow: hidden;text-align: left;background-color: #f0f8ff;}#sk-container-id-1 div.sk-toggleable__content pre {margin: 0.2em;color: black;border-radius: 0.25em;background-color: #f0f8ff;}#sk-container-id-1 input.sk-toggleable__control:checked~div.sk-toggleable__content {max-height: 200px;max-width: 100%;overflow: auto;}#sk-container-id-1 input.sk-toggleable__control:checked~label.sk-toggleable__label-arrow:before {content: \"▾\";}#sk-container-id-1 div.sk-estimator input.sk-toggleable__control:checked~label.sk-toggleable__label {background-color: #d4ebff;}#sk-container-id-1 div.sk-label input.sk-toggleable__control:checked~label.sk-toggleable__label {background-color: #d4ebff;}#sk-container-id-1 input.sk-hidden--visually {border: 0;clip: rect(1px 1px 1px 1px);clip: rect(1px, 1px, 1px, 1px);height: 1px;margin: -1px;overflow: hidden;padding: 0;position: absolute;width: 1px;}#sk-container-id-1 div.sk-estimator {font-family: monospace;background-color: #f0f8ff;border: 1px dotted black;border-radius: 0.25em;box-sizing: border-box;margin-bottom: 0.5em;}#sk-container-id-1 div.sk-estimator:hover {background-color: #d4ebff;}#sk-container-id-1 div.sk-parallel-item::after {content: \"\";width: 100%;border-bottom: 1px solid gray;flex-grow: 1;}#sk-container-id-1 div.sk-label:hover label.sk-toggleable__label {background-color: #d4ebff;}#sk-container-id-1 div.sk-serial::before {content: \"\";position: absolute;border-left: 1px solid gray;box-sizing: border-box;top: 0;bottom: 0;left: 50%;z-index: 0;}#sk-container-id-1 div.sk-serial {display: flex;flex-direction: column;align-items: center;background-color: white;padding-right: 0.2em;padding-left: 0.2em;position: relative;}#sk-container-id-1 div.sk-item {position: relative;z-index: 1;}#sk-container-id-1 div.sk-parallel {display: flex;align-items: stretch;justify-content: center;background-color: white;position: relative;}#sk-container-id-1 div.sk-item::before, #sk-container-id-1 div.sk-parallel-item::before {content: \"\";position: absolute;border-left: 1px solid gray;box-sizing: border-box;top: 0;bottom: 0;left: 50%;z-index: -1;}#sk-container-id-1 div.sk-parallel-item {display: flex;flex-direction: column;z-index: 1;position: relative;background-color: white;}#sk-container-id-1 div.sk-parallel-item:first-child::after {align-self: flex-end;width: 50%;}#sk-container-id-1 div.sk-parallel-item:last-child::after {align-self: flex-start;width: 50%;}#sk-container-id-1 div.sk-parallel-item:only-child::after {width: 0;}#sk-container-id-1 div.sk-dashed-wrapped {border: 1px dashed gray;margin: 0 0.4em 0.5em 0.4em;box-sizing: border-box;padding-bottom: 0.4em;background-color: white;}#sk-container-id-1 div.sk-label label {font-family: monospace;font-weight: bold;display: inline-block;line-height: 1.2em;}#sk-container-id-1 div.sk-label-container {text-align: center;}#sk-container-id-1 div.sk-container {/* jupyter's `normalize.less` sets `[hidden] { display: none; }` but bootstrap.min.css set `[hidden] { display: none !important; }` so we also need the `!important` here to be able to override the default hidden behavior on the sphinx rendered scikit-learn.org. See: https://github.com/scikit-learn/scikit-learn/issues/21755 */display: inline-block !important;position: relative;}#sk-container-id-1 div.sk-text-repr-fallback {display: none;}</style><div id=\"sk-container-id-1\" class=\"sk-top-container\"><div class=\"sk-text-repr-fallback\"><pre>KNeighborsClassifier(n_neighbors=3)</pre><b>In a Jupyter environment, please rerun this cell to show the HTML representation or trust the notebook. <br />On GitHub, the HTML representation is unable to render, please try loading this page with nbviewer.org.</b></div><div class=\"sk-container\" hidden><div class=\"sk-item\"><div class=\"sk-estimator sk-toggleable\"><input class=\"sk-toggleable__control sk-hidden--visually\" id=\"sk-estimator-id-1\" type=\"checkbox\" checked><label for=\"sk-estimator-id-1\" class=\"sk-toggleable__label sk-toggleable__label-arrow\">KNeighborsClassifier</label><div class=\"sk-toggleable__content\"><pre>KNeighborsClassifier(n_neighbors=3)</pre></div></div></div></div></div>"
            ]
          },
          "metadata": {},
          "execution_count": 21
        }
      ]
    },
    {
      "cell_type": "markdown",
      "metadata": {
        "id": "13k1DgeOHipq"
      },
      "source": [
        "Antes de visualizar as previsões, é possível estimar a acurácia média para um dado conjunto de dados (teste)  e seus respectivos rótulos."
      ]
    },
    {
      "cell_type": "code",
      "metadata": {
        "id": "3XsI1IS1Hh69",
        "colab": {
          "base_uri": "https://localhost:8080/"
        },
        "outputId": "c8259300-f1a3-4ee0-f933-6c0a51d379bc"
      },
      "source": [
        "\"\"\"\n",
        "Prática de Aprendizado de Máquina\n",
        "\n",
        "Descrição do código:\n",
        "- Mostra a acurácia média dado o conjunto de teste e suas labels.\n",
        "\"\"\"\n",
        "knn.score(X_test,y_test)"
      ],
      "execution_count": 22,
      "outputs": [
        {
          "output_type": "execute_result",
          "data": {
            "text/plain": [
              "0.9555555555555556"
            ]
          },
          "metadata": {},
          "execution_count": 22
        }
      ]
    },
    {
      "cell_type": "markdown",
      "metadata": {
        "id": "H-MZBhQ9_Vh5"
      },
      "source": [
        "> ## **Fazendo previsões com o KNN**\n",
        "\n",
        "Após a instanciação do KNN, é possível obter os primeiros resultados de previsào para os dados de teste (X_test).\n",
        "\n",
        "**Predict** é o método para inferir resultados de quaisquer dados compatíveis com os de treino."
      ]
    },
    {
      "cell_type": "code",
      "metadata": {
        "id": "YENtxKSX_Vt2"
      },
      "source": [
        "\"\"\"\n",
        "Prática de Aprendizado de Máquina\n",
        "\n",
        "Descrição do código:\n",
        "- Realiza a predição de dados dado o conjunto de teste.\n",
        "\"\"\"\n",
        "results = knn.predict(X_test)\n",
        "#print(results)\n",
        "#print(y_test)"
      ],
      "execution_count": 23,
      "outputs": []
    },
    {
      "cell_type": "markdown",
      "metadata": {
        "id": "g1k-Uk9WWg9o"
      },
      "source": [
        "Esta é a lista das classes (espécies) previstas para os 45 exemplos do conjunto de teste **X_test**. As previsões devem ser comparadas com os valores reais, representados por **y_test**."
      ]
    },
    {
      "cell_type": "markdown",
      "metadata": {
        "id": "Bam_5C2IAxaC"
      },
      "source": [
        "># **Validação**\n",
        "\n",
        "Técnicas para calcular e melhorar a acurácia e outras métricas de desempenho."
      ]
    },
    {
      "cell_type": "markdown",
      "metadata": {
        "id": "Sdo02Pd4Ax12"
      },
      "source": [
        "> ## **Matriz de Confusão**"
      ]
    },
    {
      "cell_type": "markdown",
      "metadata": {
        "id": "oKeczfnsYOoU"
      },
      "source": [
        "A **Matriz de Confusão** é um método utilizado para verificar como os exemplos de cada classe foram classificados. A partir dela, várias métricas podem ser calculadas, como acurácia, **recall** e **precision**."
      ]
    },
    {
      "cell_type": "code",
      "metadata": {
        "id": "3t7MwcI8B7AK",
        "colab": {
          "base_uri": "https://localhost:8080/"
        },
        "outputId": "e323d651-ac72-4ec1-8f0f-7c5212ec1911"
      },
      "source": [
        "\"\"\"\n",
        "Prática de Aprendizado de Máquina\n",
        "\n",
        "Descrição do código:\n",
        "- Utiliza o pandas para criar uma matriz de confusão, é bastante útil\n",
        "    para entender se existem e quais foram os falsos positivos / positivo negativos\n",
        "    que o modelo classificou.\n",
        "\"\"\"\n",
        "print(pd.crosstab(y_test, results, rownames=['Real'], colnames=['Previsto'], margins=True, margins_name='total'))"
      ],
      "execution_count": 24,
      "outputs": [
        {
          "output_type": "stream",
          "name": "stdout",
          "text": [
            "Previsto    setosa  versicolor  virginica  total\n",
            "Real                                            \n",
            "setosa          12           0          0     12\n",
            "versicolor       0          20          2     22\n",
            "virginica        0           0         11     11\n",
            "total           12          20         13     45\n"
          ]
        }
      ]
    },
    {
      "cell_type": "markdown",
      "metadata": {
        "id": "N9LhVGO6sTbU"
      },
      "source": [
        "A matriz de confusão acima representa os resultados do obtios pelo KNN para a previsão do conjunto de teste.\n",
        "\n",
        "Para entender melhor a definição de *recall* e *precision*, vamos avaliar os **resultados da classe VIRGINICA**:\n",
        "\n",
        "* A classe está claramente identificada, pois todas elas foram classificadas corretamente. Isso representa um **recall** de 100%.\n",
        "\n",
        "* Por outro lado, não se pode dizer que o modelo foi preciso, 100% de **precision**, pois das 13 virginicas preditas, duas delas eram de fato versicolor.\n",
        "\n",
        "A seguir, essas métricas são calculadas."
      ]
    },
    {
      "cell_type": "markdown",
      "metadata": {
        "id": "irXo83DWBfe1"
      },
      "source": [
        "> ## **Métricas de Classificação**"
      ]
    },
    {
      "cell_type": "markdown",
      "metadata": {
        "id": "SC948eelZkXD"
      },
      "source": [
        "A tabela abaixo apresenta as medidas de **precision** e **recall** para cada classe, calculadas com a utilização do módulo **metrics**.\n",
        "\n",
        "A métrica **f1-score** representa uma média ponderada entre essas duas métricas. Essa é uma ótima métrica por não levar em consideração os verdadeiros negativos que geralmente são irrelevantes para os resultados.\n",
        "\n",
        "A acuráca mostra o desempenho do algoritmo de forma geral."
      ]
    },
    {
      "cell_type": "code",
      "metadata": {
        "id": "LABLiV84DHkR"
      },
      "source": [
        "\"\"\"\n",
        "Prática de Aprendizado de Máquina\n",
        "\n",
        "Descrição do código:\n",
        "- Importa o metrics do sklearn.\n",
        "\"\"\"\n",
        "from sklearn import metrics"
      ],
      "execution_count": 25,
      "outputs": []
    },
    {
      "cell_type": "code",
      "metadata": {
        "id": "uUYhPtPjDWe9",
        "colab": {
          "base_uri": "https://localhost:8080/"
        },
        "outputId": "774be53c-16ac-4712-97f3-e7165cc8b543"
      },
      "source": [
        "\"\"\"\n",
        "Prática de Aprendizado de Máquina\n",
        "\n",
        "Descrição do código:\n",
        "- Cálcula as métricas de precision e recall.\n",
        "\n",
        "Calculando apenas para classe virginica por exemplo,\n",
        "A métrica Recall avalia qual a proporção de positivos verdadeiros foi corretamente classificada.\n",
        "\n",
        "A fórmula para isso é: R = TP/ TP + FN, para classe virginica temos 11 TP e 0 FN, então temos que:\n",
        "R = 11 / 11 + 0 = 11/11 = 1, então temos 100% de recall.\n",
        "\n",
        "Já a métrica de precision avalia qual a proporção de identificações positivas foram corretamente classificadas.\n",
        "\n",
        "A fórmula é: TP/TP + FP, no caso da virginica, temos 11 TP e 2 FP, então temos que:\n",
        "R = 11/11 + 2 = 11/13 0,8461 então temos 84,61% de precision.\n",
        "\n",
        "f1-score é a média ponderada entre as duas métricas anteriores.\n",
        "\n",
        "A fórmula da é:\n",
        "Accuracy = TP + TN/ (TP + TN + FP + FN)\n",
        "\n",
        "mas é interessante notar que se somarmos o f1-score e dividirmos por 3 também chegaremos na acurácia:\n",
        "\n",
        "accuracy = (1 + 0.952 + 0.917) / 3 = 2,869 / 3 = 0,9563333333333333 ou só 0.956.\n",
        "\"\"\"\n",
        "print(metrics.classification_report(y_test,results,target_names=iris.species.unique(), digits=3))"
      ],
      "execution_count": 26,
      "outputs": [
        {
          "output_type": "stream",
          "name": "stdout",
          "text": [
            "              precision    recall  f1-score   support\n",
            "\n",
            "      setosa      1.000     1.000     1.000        12\n",
            "  versicolor      1.000     0.909     0.952        22\n",
            "   virginica      0.846     1.000     0.917        11\n",
            "\n",
            "    accuracy                          0.956        45\n",
            "   macro avg      0.949     0.970     0.956        45\n",
            "weighted avg      0.962     0.956     0.956        45\n",
            "\n"
          ]
        }
      ]
    },
    {
      "cell_type": "markdown",
      "metadata": {
        "id": "80fxmmB-JRtT"
      },
      "source": [
        "A acurácia é a mesma apresentada anteriormente pelo método 'score' do KNN, 95,6%."
      ]
    },
    {
      "cell_type": "code",
      "source": [],
      "metadata": {
        "id": "hIfhLrnlumtg"
      },
      "execution_count": null,
      "outputs": []
    },
    {
      "cell_type": "markdown",
      "metadata": {
        "id": "Tr9gBef7EZUs"
      },
      "source": [
        "> ## **Validação Cruzada (Cross Validation)**\n",
        "\n",
        "Conforme discutido anteriormente, a seleção de dados a serem usados para essas duas partes importantes do aprendizado de máquina supervisionado pode alterar a eficiência do modelo. Em outras palavras, diferentes dados treino podem resultar em diferentes modelos, com diferentes previsões e, consequentemente, diferentes métricas de desempenho.\n",
        "\n",
        "Isso apenas considerando a seleção dos exemplos que fazem parte do treino e teste, mantendo fixo todos os parâmetros do algoritmo.\n",
        "\n",
        "Para minimizar esse problema, uma boa solução é usar a **Validação Cruzada**, que divide os dados de treinamento em **n** partições (*folds*) (neste exemplo, n = 5) e repete as etapas de **treino** e **teste** **n** vezes, usando uma dessas partições (folds) como **teste** em cada uma das vezes.\n",
        "\n",
        "No final, é calculada a média das **n** rodadas para cada métrica.\n",
        "\n"
      ]
    },
    {
      "cell_type": "code",
      "metadata": {
        "id": "Dr8ebSqfEZgd"
      },
      "source": [
        "\"\"\"\n",
        "Prática de Aprendizado de Máquina\n",
        "\n",
        "Descrição do código:\n",
        "- Importa o cross_val_score do pacote sklearn.model_selection\n",
        "\"\"\"\n",
        "from sklearn.model_selection import cross_val_score"
      ],
      "execution_count": 27,
      "outputs": []
    },
    {
      "cell_type": "markdown",
      "metadata": {
        "id": "ufGr0Uh0XYFz"
      },
      "source": [
        "Como visto anteriormente, o desempenho do classificador depende de quais exemplos fazem parte dos conjuntos de treino e teste. Para a seleção realizada com *random_state=500*, a acurácia é de 95,6%."
      ]
    },
    {
      "cell_type": "code",
      "metadata": {
        "id": "9Zf1t_RfxMg-",
        "colab": {
          "base_uri": "https://localhost:8080/"
        },
        "outputId": "1deb5378-b6b2-42d2-883b-80e4f8531eec"
      },
      "source": [
        "\"\"\"\n",
        "Prática de Aprendizado de Máquina\n",
        "\n",
        "Descrição do código:\n",
        "- Imprime acurácia do knn com test escolhido manualmente\n",
        "\"\"\"\n",
        "print(f\"Accuracy: {knn.score(X_test,y_test)*100:0.2f} %\")"
      ],
      "execution_count": 28,
      "outputs": [
        {
          "output_type": "stream",
          "name": "stdout",
          "text": [
            "Accuracy: 95.56 %\n"
          ]
        }
      ]
    },
    {
      "cell_type": "code",
      "metadata": {
        "id": "bcEZY7PiGuDA",
        "colab": {
          "base_uri": "https://localhost:8080/"
        },
        "outputId": "59547d3a-c58a-4dfc-dc36-50ac7a03ca81"
      },
      "source": [
        "\"\"\"\n",
        "Prática de Aprendizado de Máquina\n",
        "\n",
        "Descrição do código:\n",
        "- Imprime acurácia do knn com validação 5fold, onde os dados são divididos\n",
        "    em diferentes partições de treino e teste e avaliado no classsificador.\n",
        "    Desta maneira, cada exemplo será teste e treino em algum momento.\n",
        "    É interessante notar que a acurácia varia.\n",
        "\"\"\"\n",
        "scores = cross_val_score(knn, iris.drop('species',axis=1), iris.species, cv=5, scoring='accuracy')\n",
        "scores"
      ],
      "execution_count": 29,
      "outputs": [
        {
          "output_type": "execute_result",
          "data": {
            "text/plain": [
              "array([0.96666667, 0.96666667, 0.93333333, 0.96666667, 1.        ])"
            ]
          },
          "metadata": {},
          "execution_count": 29
        }
      ]
    },
    {
      "cell_type": "markdown",
      "metadata": {
        "id": "_vwMKEJDe9x9"
      },
      "source": [
        "Com a validação cruzada, o desempenho varia entre 93% e 100%.\n",
        "\n",
        "O desempenho do classificador é considerado como a média da validação cruzada. Neste caso, 96,7% +/- 2,1%."
      ]
    },
    {
      "cell_type": "code",
      "metadata": {
        "id": "xOXEyVixF90w",
        "colab": {
          "base_uri": "https://localhost:8080/"
        },
        "outputId": "f358df50-3d7f-4c26-bca5-cfe1706acc7c"
      },
      "source": [
        "\"\"\"\n",
        "Prática de Aprendizado de Máquina\n",
        "\n",
        "Descrição do código:\n",
        "- Imprime acurácia para o 5fold, nesse caso a média das acurácias obtidas\n",
        "    no 5fold.\n",
        "\"\"\"\n",
        "print(f\"Accuracy for Cross Validation: {scores.mean()*100}\")"
      ],
      "execution_count": null,
      "outputs": [
        {
          "output_type": "stream",
          "name": "stdout",
          "text": [
            "Accuracy for Cross Validation: 96.66666666666669\n"
          ]
        }
      ]
    },
    {
      "cell_type": "markdown",
      "metadata": {
        "id": "ExEAwpplumFf"
      },
      "source": [
        "Se você testar outros parâmetros para o classificador, esta é uma métrica de desempenho muito melhor, pois reduz a influência de uma seleção específica dos dados de treino e teste no desempenho do classificador.\n"
      ]
    },
    {
      "cell_type": "markdown",
      "metadata": {
        "id": "k0LcdtbgHKVU"
      },
      "source": [
        "># **Otimizando o valor de k (n_neighbors)**"
      ]
    },
    {
      "cell_type": "markdown",
      "metadata": {
        "id": "e-2oWCIfHhSo"
      },
      "source": [
        "> ## **Definindo um lista de valores para k**\n",
        "\n",
        "É possível utilizar **GridSearch** para otimização de parâmetros de um classificador.\n"
      ]
    },
    {
      "cell_type": "markdown",
      "metadata": {
        "id": "s7hKX1lr1-eJ"
      },
      "source": [
        "Inicialmente, o **parâmetro k** do KNN foi configurado com o valor igual a 3.\n",
        "\n",
        "Agora, esse parâmetro será \"otimizado\". Para isso, utilizaremos uma lista com os valores de k a serem testados, variando de 1 a 30."
      ]
    },
    {
      "cell_type": "code",
      "metadata": {
        "id": "l5boqBDNHfV_"
      },
      "source": [
        "\"\"\"\n",
        "Prática de Aprendizado de Máquina\n",
        "\n",
        "Descrição do código:\n",
        "- cria uma lista de números em sequência de 1 até 30.\n",
        "\"\"\"\n",
        "k_list = list(range(1,31))"
      ],
      "execution_count": 31,
      "outputs": []
    },
    {
      "cell_type": "code",
      "metadata": {
        "id": "MBaxQKHGHxSP",
        "colab": {
          "base_uri": "https://localhost:8080/"
        },
        "outputId": "0fce1c4a-1d99-4a49-ead5-1864c32d7dd4"
      },
      "source": [
        "\"\"\"\n",
        "Prática de Aprendizado de Máquina\n",
        "\n",
        "Descrição do código:\n",
        "- cria um dicionário armazenando na chave n_neighbors os números criados na célula anterior.\n",
        "    Estes números serão testados como valores de k.\n",
        "\"\"\"\n",
        "k_values = dict(n_neighbors=k_list)\n",
        "print(k_values.keys()),\n",
        "print(k_values.values())"
      ],
      "execution_count": 32,
      "outputs": [
        {
          "output_type": "stream",
          "name": "stdout",
          "text": [
            "dict_keys(['n_neighbors'])\n",
            "dict_values([[1, 2, 3, 4, 5, 6, 7, 8, 9, 10, 11, 12, 13, 14, 15, 16, 17, 18, 19, 20, 21, 22, 23, 24, 25, 26, 27, 28, 29, 30]])\n"
          ]
        }
      ]
    },
    {
      "cell_type": "markdown",
      "metadata": {
        "id": "8eI03OFtJL7x"
      },
      "source": [
        "> ## **Instanciando o objeto GridSearch**\n",
        "\n",
        "**GridSearch** realiza uma busca exaustiva sobre uma lista de valores previamente especificados para um estimador.\n",
        "\n",
        "Internamente, são executados os métodos **fit** e **predict**, juntamente com a estratégia de **validação cruzada (cross-validation)**."
      ]
    },
    {
      "cell_type": "code",
      "metadata": {
        "id": "KO0ZCj8oHBfJ"
      },
      "source": [
        "\"\"\"\n",
        "Prática de Aprendizado de Máquina\n",
        "\n",
        "Descrição do código:\n",
        "- importa o GridSearchCV de sklearn.model_selection.\n",
        "\"\"\"\n",
        "from sklearn.model_selection import GridSearchCV"
      ],
      "execution_count": 33,
      "outputs": []
    },
    {
      "cell_type": "code",
      "metadata": {
        "id": "yjFkcu1OIkic"
      },
      "source": [
        "\"\"\"\n",
        "Prática de Aprendizado de Máquina\n",
        "\n",
        "Descrição do código:\n",
        "- Inicia o GridSearchCV, passando o classificador, os k values, especificando 5fold e especificando acurácia como estratégia para rankear os k.\n",
        "\"\"\"\n",
        "grid = GridSearchCV(knn, k_values, cv=5, scoring='accuracy')"
      ],
      "execution_count": 34,
      "outputs": []
    },
    {
      "cell_type": "markdown",
      "metadata": {
        "id": "hMc2harEKApx"
      },
      "source": [
        "> ## **Executando GridSearch**"
      ]
    },
    {
      "cell_type": "code",
      "metadata": {
        "id": "yuAqlDEpKGsM",
        "colab": {
          "base_uri": "https://localhost:8080/",
          "height": 118
        },
        "outputId": "9a191569-34f9-40c3-c832-8f0a9e3baa95"
      },
      "source": [
        "\"\"\"\n",
        "Prática de Aprendizado de Máquina\n",
        "\n",
        "Descrição do código:\n",
        "- Chama o método fit passando o dataset.\n",
        "\"\"\"\n",
        "grid.fit(iris.drop('species', axis=1), iris.species)"
      ],
      "execution_count": 35,
      "outputs": [
        {
          "output_type": "execute_result",
          "data": {
            "text/plain": [
              "GridSearchCV(cv=5, estimator=KNeighborsClassifier(n_neighbors=3),\n",
              "             param_grid={'n_neighbors': [1, 2, 3, 4, 5, 6, 7, 8, 9, 10, 11, 12,\n",
              "                                         13, 14, 15, 16, 17, 18, 19, 20, 21, 22,\n",
              "                                         23, 24, 25, 26, 27, 28, 29, 30]},\n",
              "             scoring='accuracy')"
            ],
            "text/html": [
              "<style>#sk-container-id-2 {color: black;background-color: white;}#sk-container-id-2 pre{padding: 0;}#sk-container-id-2 div.sk-toggleable {background-color: white;}#sk-container-id-2 label.sk-toggleable__label {cursor: pointer;display: block;width: 100%;margin-bottom: 0;padding: 0.3em;box-sizing: border-box;text-align: center;}#sk-container-id-2 label.sk-toggleable__label-arrow:before {content: \"▸\";float: left;margin-right: 0.25em;color: #696969;}#sk-container-id-2 label.sk-toggleable__label-arrow:hover:before {color: black;}#sk-container-id-2 div.sk-estimator:hover label.sk-toggleable__label-arrow:before {color: black;}#sk-container-id-2 div.sk-toggleable__content {max-height: 0;max-width: 0;overflow: hidden;text-align: left;background-color: #f0f8ff;}#sk-container-id-2 div.sk-toggleable__content pre {margin: 0.2em;color: black;border-radius: 0.25em;background-color: #f0f8ff;}#sk-container-id-2 input.sk-toggleable__control:checked~div.sk-toggleable__content {max-height: 200px;max-width: 100%;overflow: auto;}#sk-container-id-2 input.sk-toggleable__control:checked~label.sk-toggleable__label-arrow:before {content: \"▾\";}#sk-container-id-2 div.sk-estimator input.sk-toggleable__control:checked~label.sk-toggleable__label {background-color: #d4ebff;}#sk-container-id-2 div.sk-label input.sk-toggleable__control:checked~label.sk-toggleable__label {background-color: #d4ebff;}#sk-container-id-2 input.sk-hidden--visually {border: 0;clip: rect(1px 1px 1px 1px);clip: rect(1px, 1px, 1px, 1px);height: 1px;margin: -1px;overflow: hidden;padding: 0;position: absolute;width: 1px;}#sk-container-id-2 div.sk-estimator {font-family: monospace;background-color: #f0f8ff;border: 1px dotted black;border-radius: 0.25em;box-sizing: border-box;margin-bottom: 0.5em;}#sk-container-id-2 div.sk-estimator:hover {background-color: #d4ebff;}#sk-container-id-2 div.sk-parallel-item::after {content: \"\";width: 100%;border-bottom: 1px solid gray;flex-grow: 1;}#sk-container-id-2 div.sk-label:hover label.sk-toggleable__label {background-color: #d4ebff;}#sk-container-id-2 div.sk-serial::before {content: \"\";position: absolute;border-left: 1px solid gray;box-sizing: border-box;top: 0;bottom: 0;left: 50%;z-index: 0;}#sk-container-id-2 div.sk-serial {display: flex;flex-direction: column;align-items: center;background-color: white;padding-right: 0.2em;padding-left: 0.2em;position: relative;}#sk-container-id-2 div.sk-item {position: relative;z-index: 1;}#sk-container-id-2 div.sk-parallel {display: flex;align-items: stretch;justify-content: center;background-color: white;position: relative;}#sk-container-id-2 div.sk-item::before, #sk-container-id-2 div.sk-parallel-item::before {content: \"\";position: absolute;border-left: 1px solid gray;box-sizing: border-box;top: 0;bottom: 0;left: 50%;z-index: -1;}#sk-container-id-2 div.sk-parallel-item {display: flex;flex-direction: column;z-index: 1;position: relative;background-color: white;}#sk-container-id-2 div.sk-parallel-item:first-child::after {align-self: flex-end;width: 50%;}#sk-container-id-2 div.sk-parallel-item:last-child::after {align-self: flex-start;width: 50%;}#sk-container-id-2 div.sk-parallel-item:only-child::after {width: 0;}#sk-container-id-2 div.sk-dashed-wrapped {border: 1px dashed gray;margin: 0 0.4em 0.5em 0.4em;box-sizing: border-box;padding-bottom: 0.4em;background-color: white;}#sk-container-id-2 div.sk-label label {font-family: monospace;font-weight: bold;display: inline-block;line-height: 1.2em;}#sk-container-id-2 div.sk-label-container {text-align: center;}#sk-container-id-2 div.sk-container {/* jupyter's `normalize.less` sets `[hidden] { display: none; }` but bootstrap.min.css set `[hidden] { display: none !important; }` so we also need the `!important` here to be able to override the default hidden behavior on the sphinx rendered scikit-learn.org. See: https://github.com/scikit-learn/scikit-learn/issues/21755 */display: inline-block !important;position: relative;}#sk-container-id-2 div.sk-text-repr-fallback {display: none;}</style><div id=\"sk-container-id-2\" class=\"sk-top-container\"><div class=\"sk-text-repr-fallback\"><pre>GridSearchCV(cv=5, estimator=KNeighborsClassifier(n_neighbors=3),\n",
              "             param_grid={&#x27;n_neighbors&#x27;: [1, 2, 3, 4, 5, 6, 7, 8, 9, 10, 11, 12,\n",
              "                                         13, 14, 15, 16, 17, 18, 19, 20, 21, 22,\n",
              "                                         23, 24, 25, 26, 27, 28, 29, 30]},\n",
              "             scoring=&#x27;accuracy&#x27;)</pre><b>In a Jupyter environment, please rerun this cell to show the HTML representation or trust the notebook. <br />On GitHub, the HTML representation is unable to render, please try loading this page with nbviewer.org.</b></div><div class=\"sk-container\" hidden><div class=\"sk-item sk-dashed-wrapped\"><div class=\"sk-label-container\"><div class=\"sk-label sk-toggleable\"><input class=\"sk-toggleable__control sk-hidden--visually\" id=\"sk-estimator-id-2\" type=\"checkbox\" ><label for=\"sk-estimator-id-2\" class=\"sk-toggleable__label sk-toggleable__label-arrow\">GridSearchCV</label><div class=\"sk-toggleable__content\"><pre>GridSearchCV(cv=5, estimator=KNeighborsClassifier(n_neighbors=3),\n",
              "             param_grid={&#x27;n_neighbors&#x27;: [1, 2, 3, 4, 5, 6, 7, 8, 9, 10, 11, 12,\n",
              "                                         13, 14, 15, 16, 17, 18, 19, 20, 21, 22,\n",
              "                                         23, 24, 25, 26, 27, 28, 29, 30]},\n",
              "             scoring=&#x27;accuracy&#x27;)</pre></div></div></div><div class=\"sk-parallel\"><div class=\"sk-parallel-item\"><div class=\"sk-item\"><div class=\"sk-label-container\"><div class=\"sk-label sk-toggleable\"><input class=\"sk-toggleable__control sk-hidden--visually\" id=\"sk-estimator-id-3\" type=\"checkbox\" ><label for=\"sk-estimator-id-3\" class=\"sk-toggleable__label sk-toggleable__label-arrow\">estimator: KNeighborsClassifier</label><div class=\"sk-toggleable__content\"><pre>KNeighborsClassifier(n_neighbors=3)</pre></div></div></div><div class=\"sk-serial\"><div class=\"sk-item\"><div class=\"sk-estimator sk-toggleable\"><input class=\"sk-toggleable__control sk-hidden--visually\" id=\"sk-estimator-id-4\" type=\"checkbox\" ><label for=\"sk-estimator-id-4\" class=\"sk-toggleable__label sk-toggleable__label-arrow\">KNeighborsClassifier</label><div class=\"sk-toggleable__content\"><pre>KNeighborsClassifier(n_neighbors=3)</pre></div></div></div></div></div></div></div></div></div></div>"
            ]
          },
          "metadata": {},
          "execution_count": 35
        }
      ]
    },
    {
      "cell_type": "markdown",
      "metadata": {
        "id": "lvSqHS1nKZJJ"
      },
      "source": [
        "> ## **Vizualizando os resultados**\n",
        "\n",
        "Vamos checar o desempenho do classificador utilizando todos os parâmetros testados pelo GridSearch."
      ]
    },
    {
      "cell_type": "code",
      "metadata": {
        "id": "c9h3jrau87We",
        "colab": {
          "base_uri": "https://localhost:8080/",
          "height": 357
        },
        "outputId": "dc98cddf-389b-43c8-cecd-f8661fdd07be"
      },
      "source": [
        "\"\"\"\n",
        "Prática de Aprendizado de Máquina\n",
        "\n",
        "Descrição do código:\n",
        "- Converte o resultado em um DataFrame e printa as primeiro cinco linhas.\n",
        "    - Várias métricas com relação ao classificador com os diferentes k estão disponíveis, como acurácia média, acurácia por fold, rank.\n",
        "\"\"\"\n",
        "grid.cv_results_\n",
        "grid_table = pd.DataFrame(grid.cv_results_)\n",
        "grid_table.head()"
      ],
      "execution_count": 36,
      "outputs": [
        {
          "output_type": "execute_result",
          "data": {
            "text/plain": [
              "   mean_fit_time  std_fit_time  mean_score_time  std_score_time  \\\n",
              "0       0.002233      0.000327         0.003105        0.000153   \n",
              "1       0.002042      0.000026         0.003136        0.000181   \n",
              "2       0.002107      0.000095         0.003094        0.000142   \n",
              "3       0.002298      0.000589         0.003436        0.000562   \n",
              "4       0.002258      0.000352         0.003176        0.000417   \n",
              "\n",
              "  param_n_neighbors              params  split0_test_score  split1_test_score  \\\n",
              "0                 1  {'n_neighbors': 1}           0.966667           0.966667   \n",
              "1                 2  {'n_neighbors': 2}           0.966667           0.933333   \n",
              "2                 3  {'n_neighbors': 3}           0.966667           0.966667   \n",
              "3                 4  {'n_neighbors': 4}           0.966667           0.966667   \n",
              "4                 5  {'n_neighbors': 5}           0.966667           1.000000   \n",
              "\n",
              "   split2_test_score  split3_test_score  split4_test_score  mean_test_score  \\\n",
              "0           0.933333           0.933333                1.0         0.960000   \n",
              "1           0.933333           0.900000                1.0         0.946667   \n",
              "2           0.933333           0.966667                1.0         0.966667   \n",
              "3           0.966667           0.966667                1.0         0.973333   \n",
              "4           0.933333           0.966667                1.0         0.973333   \n",
              "\n",
              "   std_test_score  rank_test_score  \n",
              "0        0.024944               19  \n",
              "1        0.033993               26  \n",
              "2        0.021082               10  \n",
              "3        0.013333                6  \n",
              "4        0.024944                6  "
            ],
            "text/html": [
              "\n",
              "  <div id=\"df-28235f85-bb24-44f2-be7b-3828688282af\">\n",
              "    <div class=\"colab-df-container\">\n",
              "      <div>\n",
              "<style scoped>\n",
              "    .dataframe tbody tr th:only-of-type {\n",
              "        vertical-align: middle;\n",
              "    }\n",
              "\n",
              "    .dataframe tbody tr th {\n",
              "        vertical-align: top;\n",
              "    }\n",
              "\n",
              "    .dataframe thead th {\n",
              "        text-align: right;\n",
              "    }\n",
              "</style>\n",
              "<table border=\"1\" class=\"dataframe\">\n",
              "  <thead>\n",
              "    <tr style=\"text-align: right;\">\n",
              "      <th></th>\n",
              "      <th>mean_fit_time</th>\n",
              "      <th>std_fit_time</th>\n",
              "      <th>mean_score_time</th>\n",
              "      <th>std_score_time</th>\n",
              "      <th>param_n_neighbors</th>\n",
              "      <th>params</th>\n",
              "      <th>split0_test_score</th>\n",
              "      <th>split1_test_score</th>\n",
              "      <th>split2_test_score</th>\n",
              "      <th>split3_test_score</th>\n",
              "      <th>split4_test_score</th>\n",
              "      <th>mean_test_score</th>\n",
              "      <th>std_test_score</th>\n",
              "      <th>rank_test_score</th>\n",
              "    </tr>\n",
              "  </thead>\n",
              "  <tbody>\n",
              "    <tr>\n",
              "      <th>0</th>\n",
              "      <td>0.002233</td>\n",
              "      <td>0.000327</td>\n",
              "      <td>0.003105</td>\n",
              "      <td>0.000153</td>\n",
              "      <td>1</td>\n",
              "      <td>{'n_neighbors': 1}</td>\n",
              "      <td>0.966667</td>\n",
              "      <td>0.966667</td>\n",
              "      <td>0.933333</td>\n",
              "      <td>0.933333</td>\n",
              "      <td>1.0</td>\n",
              "      <td>0.960000</td>\n",
              "      <td>0.024944</td>\n",
              "      <td>19</td>\n",
              "    </tr>\n",
              "    <tr>\n",
              "      <th>1</th>\n",
              "      <td>0.002042</td>\n",
              "      <td>0.000026</td>\n",
              "      <td>0.003136</td>\n",
              "      <td>0.000181</td>\n",
              "      <td>2</td>\n",
              "      <td>{'n_neighbors': 2}</td>\n",
              "      <td>0.966667</td>\n",
              "      <td>0.933333</td>\n",
              "      <td>0.933333</td>\n",
              "      <td>0.900000</td>\n",
              "      <td>1.0</td>\n",
              "      <td>0.946667</td>\n",
              "      <td>0.033993</td>\n",
              "      <td>26</td>\n",
              "    </tr>\n",
              "    <tr>\n",
              "      <th>2</th>\n",
              "      <td>0.002107</td>\n",
              "      <td>0.000095</td>\n",
              "      <td>0.003094</td>\n",
              "      <td>0.000142</td>\n",
              "      <td>3</td>\n",
              "      <td>{'n_neighbors': 3}</td>\n",
              "      <td>0.966667</td>\n",
              "      <td>0.966667</td>\n",
              "      <td>0.933333</td>\n",
              "      <td>0.966667</td>\n",
              "      <td>1.0</td>\n",
              "      <td>0.966667</td>\n",
              "      <td>0.021082</td>\n",
              "      <td>10</td>\n",
              "    </tr>\n",
              "    <tr>\n",
              "      <th>3</th>\n",
              "      <td>0.002298</td>\n",
              "      <td>0.000589</td>\n",
              "      <td>0.003436</td>\n",
              "      <td>0.000562</td>\n",
              "      <td>4</td>\n",
              "      <td>{'n_neighbors': 4}</td>\n",
              "      <td>0.966667</td>\n",
              "      <td>0.966667</td>\n",
              "      <td>0.966667</td>\n",
              "      <td>0.966667</td>\n",
              "      <td>1.0</td>\n",
              "      <td>0.973333</td>\n",
              "      <td>0.013333</td>\n",
              "      <td>6</td>\n",
              "    </tr>\n",
              "    <tr>\n",
              "      <th>4</th>\n",
              "      <td>0.002258</td>\n",
              "      <td>0.000352</td>\n",
              "      <td>0.003176</td>\n",
              "      <td>0.000417</td>\n",
              "      <td>5</td>\n",
              "      <td>{'n_neighbors': 5}</td>\n",
              "      <td>0.966667</td>\n",
              "      <td>1.000000</td>\n",
              "      <td>0.933333</td>\n",
              "      <td>0.966667</td>\n",
              "      <td>1.0</td>\n",
              "      <td>0.973333</td>\n",
              "      <td>0.024944</td>\n",
              "      <td>6</td>\n",
              "    </tr>\n",
              "  </tbody>\n",
              "</table>\n",
              "</div>\n",
              "      <button class=\"colab-df-convert\" onclick=\"convertToInteractive('df-28235f85-bb24-44f2-be7b-3828688282af')\"\n",
              "              title=\"Convert this dataframe to an interactive table.\"\n",
              "              style=\"display:none;\">\n",
              "        \n",
              "  <svg xmlns=\"http://www.w3.org/2000/svg\" height=\"24px\"viewBox=\"0 0 24 24\"\n",
              "       width=\"24px\">\n",
              "    <path d=\"M0 0h24v24H0V0z\" fill=\"none\"/>\n",
              "    <path d=\"M18.56 5.44l.94 2.06.94-2.06 2.06-.94-2.06-.94-.94-2.06-.94 2.06-2.06.94zm-11 1L8.5 8.5l.94-2.06 2.06-.94-2.06-.94L8.5 2.5l-.94 2.06-2.06.94zm10 10l.94 2.06.94-2.06 2.06-.94-2.06-.94-.94-2.06-.94 2.06-2.06.94z\"/><path d=\"M17.41 7.96l-1.37-1.37c-.4-.4-.92-.59-1.43-.59-.52 0-1.04.2-1.43.59L10.3 9.45l-7.72 7.72c-.78.78-.78 2.05 0 2.83L4 21.41c.39.39.9.59 1.41.59.51 0 1.02-.2 1.41-.59l7.78-7.78 2.81-2.81c.8-.78.8-2.07 0-2.86zM5.41 20L4 18.59l7.72-7.72 1.47 1.35L5.41 20z\"/>\n",
              "  </svg>\n",
              "      </button>\n",
              "      \n",
              "  <style>\n",
              "    .colab-df-container {\n",
              "      display:flex;\n",
              "      flex-wrap:wrap;\n",
              "      gap: 12px;\n",
              "    }\n",
              "\n",
              "    .colab-df-convert {\n",
              "      background-color: #E8F0FE;\n",
              "      border: none;\n",
              "      border-radius: 50%;\n",
              "      cursor: pointer;\n",
              "      display: none;\n",
              "      fill: #1967D2;\n",
              "      height: 32px;\n",
              "      padding: 0 0 0 0;\n",
              "      width: 32px;\n",
              "    }\n",
              "\n",
              "    .colab-df-convert:hover {\n",
              "      background-color: #E2EBFA;\n",
              "      box-shadow: 0px 1px 2px rgba(60, 64, 67, 0.3), 0px 1px 3px 1px rgba(60, 64, 67, 0.15);\n",
              "      fill: #174EA6;\n",
              "    }\n",
              "\n",
              "    [theme=dark] .colab-df-convert {\n",
              "      background-color: #3B4455;\n",
              "      fill: #D2E3FC;\n",
              "    }\n",
              "\n",
              "    [theme=dark] .colab-df-convert:hover {\n",
              "      background-color: #434B5C;\n",
              "      box-shadow: 0px 1px 3px 1px rgba(0, 0, 0, 0.15);\n",
              "      filter: drop-shadow(0px 1px 2px rgba(0, 0, 0, 0.3));\n",
              "      fill: #FFFFFF;\n",
              "    }\n",
              "  </style>\n",
              "\n",
              "      <script>\n",
              "        const buttonEl =\n",
              "          document.querySelector('#df-28235f85-bb24-44f2-be7b-3828688282af button.colab-df-convert');\n",
              "        buttonEl.style.display =\n",
              "          google.colab.kernel.accessAllowed ? 'block' : 'none';\n",
              "\n",
              "        async function convertToInteractive(key) {\n",
              "          const element = document.querySelector('#df-28235f85-bb24-44f2-be7b-3828688282af');\n",
              "          const dataTable =\n",
              "            await google.colab.kernel.invokeFunction('convertToInteractive',\n",
              "                                                     [key], {});\n",
              "          if (!dataTable) return;\n",
              "\n",
              "          const docLinkHtml = 'Like what you see? Visit the ' +\n",
              "            '<a target=\"_blank\" href=https://colab.research.google.com/notebooks/data_table.ipynb>data table notebook</a>'\n",
              "            + ' to learn more about interactive tables.';\n",
              "          element.innerHTML = '';\n",
              "          dataTable['output_type'] = 'display_data';\n",
              "          await google.colab.output.renderOutput(dataTable, element);\n",
              "          const docLink = document.createElement('div');\n",
              "          docLink.innerHTML = docLinkHtml;\n",
              "          element.appendChild(docLink);\n",
              "        }\n",
              "      </script>\n",
              "    </div>\n",
              "  </div>\n",
              "  "
            ]
          },
          "metadata": {},
          "execution_count": 36
        }
      ]
    },
    {
      "cell_type": "markdown",
      "metadata": {
        "id": "PrmJqmiQ5Aj5"
      },
      "source": [
        "O método *cv_results_* apresenta diversas métricas obtidas pelo classificador kNN com diferentes valores de k."
      ]
    },
    {
      "cell_type": "code",
      "metadata": {
        "id": "0ZwMJ_6EKtV7",
        "colab": {
          "base_uri": "https://localhost:8080/"
        },
        "outputId": "06e2ba19-62ec-4f02-8dc7-6717611ef5b4"
      },
      "source": [
        "\"\"\"\n",
        "Prática de Aprendizado de Máquina\n",
        "\n",
        "Descrição do código:\n",
        "- Lista os atributos disponíveis nos resultados do grid.\n",
        "\"\"\"\n",
        "for key in grid.cv_results_.keys():\n",
        "  print(key)"
      ],
      "execution_count": 37,
      "outputs": [
        {
          "output_type": "stream",
          "name": "stdout",
          "text": [
            "mean_fit_time\n",
            "std_fit_time\n",
            "mean_score_time\n",
            "std_score_time\n",
            "param_n_neighbors\n",
            "params\n",
            "split0_test_score\n",
            "split1_test_score\n",
            "split2_test_score\n",
            "split3_test_score\n",
            "split4_test_score\n",
            "mean_test_score\n",
            "std_test_score\n",
            "rank_test_score\n"
          ]
        }
      ]
    },
    {
      "cell_type": "code",
      "metadata": {
        "id": "rU8Uj9m--R3k",
        "colab": {
          "base_uri": "https://localhost:8080/",
          "height": 206
        },
        "outputId": "0ea43f08-710a-4dc8-9976-0cb8c29aaf29"
      },
      "source": [
        "\"\"\"\n",
        "Prática de Aprendizado de Máquina\n",
        "\n",
        "Descrição do código:\n",
        "- Cria um dataframe com os melhores resultados (rank 1) e ordena pelo melhor desvio padrão.\n",
        "\"\"\"\n",
        "grid_table_rank = grid_table[['params','mean_test_score','std_test_score','rank_test_score']].loc[grid_table['rank_test_score']==1].sort_values(by='std_test_score', ascending=True)\n",
        "grid_table_rank"
      ],
      "execution_count": 38,
      "outputs": [
        {
          "output_type": "execute_result",
          "data": {
            "text/plain": [
              "                 params  mean_test_score  std_test_score  rank_test_score\n",
              "5    {'n_neighbors': 6}             0.98        0.016330                1\n",
              "6    {'n_neighbors': 7}             0.98        0.016330                1\n",
              "9   {'n_neighbors': 10}             0.98        0.026667                1\n",
              "10  {'n_neighbors': 11}             0.98        0.026667                1\n",
              "11  {'n_neighbors': 12}             0.98        0.026667                1"
            ],
            "text/html": [
              "\n",
              "  <div id=\"df-62dfdc3a-92a0-425a-86ca-abaf4ab39b44\">\n",
              "    <div class=\"colab-df-container\">\n",
              "      <div>\n",
              "<style scoped>\n",
              "    .dataframe tbody tr th:only-of-type {\n",
              "        vertical-align: middle;\n",
              "    }\n",
              "\n",
              "    .dataframe tbody tr th {\n",
              "        vertical-align: top;\n",
              "    }\n",
              "\n",
              "    .dataframe thead th {\n",
              "        text-align: right;\n",
              "    }\n",
              "</style>\n",
              "<table border=\"1\" class=\"dataframe\">\n",
              "  <thead>\n",
              "    <tr style=\"text-align: right;\">\n",
              "      <th></th>\n",
              "      <th>params</th>\n",
              "      <th>mean_test_score</th>\n",
              "      <th>std_test_score</th>\n",
              "      <th>rank_test_score</th>\n",
              "    </tr>\n",
              "  </thead>\n",
              "  <tbody>\n",
              "    <tr>\n",
              "      <th>5</th>\n",
              "      <td>{'n_neighbors': 6}</td>\n",
              "      <td>0.98</td>\n",
              "      <td>0.016330</td>\n",
              "      <td>1</td>\n",
              "    </tr>\n",
              "    <tr>\n",
              "      <th>6</th>\n",
              "      <td>{'n_neighbors': 7}</td>\n",
              "      <td>0.98</td>\n",
              "      <td>0.016330</td>\n",
              "      <td>1</td>\n",
              "    </tr>\n",
              "    <tr>\n",
              "      <th>9</th>\n",
              "      <td>{'n_neighbors': 10}</td>\n",
              "      <td>0.98</td>\n",
              "      <td>0.026667</td>\n",
              "      <td>1</td>\n",
              "    </tr>\n",
              "    <tr>\n",
              "      <th>10</th>\n",
              "      <td>{'n_neighbors': 11}</td>\n",
              "      <td>0.98</td>\n",
              "      <td>0.026667</td>\n",
              "      <td>1</td>\n",
              "    </tr>\n",
              "    <tr>\n",
              "      <th>11</th>\n",
              "      <td>{'n_neighbors': 12}</td>\n",
              "      <td>0.98</td>\n",
              "      <td>0.026667</td>\n",
              "      <td>1</td>\n",
              "    </tr>\n",
              "  </tbody>\n",
              "</table>\n",
              "</div>\n",
              "      <button class=\"colab-df-convert\" onclick=\"convertToInteractive('df-62dfdc3a-92a0-425a-86ca-abaf4ab39b44')\"\n",
              "              title=\"Convert this dataframe to an interactive table.\"\n",
              "              style=\"display:none;\">\n",
              "        \n",
              "  <svg xmlns=\"http://www.w3.org/2000/svg\" height=\"24px\"viewBox=\"0 0 24 24\"\n",
              "       width=\"24px\">\n",
              "    <path d=\"M0 0h24v24H0V0z\" fill=\"none\"/>\n",
              "    <path d=\"M18.56 5.44l.94 2.06.94-2.06 2.06-.94-2.06-.94-.94-2.06-.94 2.06-2.06.94zm-11 1L8.5 8.5l.94-2.06 2.06-.94-2.06-.94L8.5 2.5l-.94 2.06-2.06.94zm10 10l.94 2.06.94-2.06 2.06-.94-2.06-.94-.94-2.06-.94 2.06-2.06.94z\"/><path d=\"M17.41 7.96l-1.37-1.37c-.4-.4-.92-.59-1.43-.59-.52 0-1.04.2-1.43.59L10.3 9.45l-7.72 7.72c-.78.78-.78 2.05 0 2.83L4 21.41c.39.39.9.59 1.41.59.51 0 1.02-.2 1.41-.59l7.78-7.78 2.81-2.81c.8-.78.8-2.07 0-2.86zM5.41 20L4 18.59l7.72-7.72 1.47 1.35L5.41 20z\"/>\n",
              "  </svg>\n",
              "      </button>\n",
              "      \n",
              "  <style>\n",
              "    .colab-df-container {\n",
              "      display:flex;\n",
              "      flex-wrap:wrap;\n",
              "      gap: 12px;\n",
              "    }\n",
              "\n",
              "    .colab-df-convert {\n",
              "      background-color: #E8F0FE;\n",
              "      border: none;\n",
              "      border-radius: 50%;\n",
              "      cursor: pointer;\n",
              "      display: none;\n",
              "      fill: #1967D2;\n",
              "      height: 32px;\n",
              "      padding: 0 0 0 0;\n",
              "      width: 32px;\n",
              "    }\n",
              "\n",
              "    .colab-df-convert:hover {\n",
              "      background-color: #E2EBFA;\n",
              "      box-shadow: 0px 1px 2px rgba(60, 64, 67, 0.3), 0px 1px 3px 1px rgba(60, 64, 67, 0.15);\n",
              "      fill: #174EA6;\n",
              "    }\n",
              "\n",
              "    [theme=dark] .colab-df-convert {\n",
              "      background-color: #3B4455;\n",
              "      fill: #D2E3FC;\n",
              "    }\n",
              "\n",
              "    [theme=dark] .colab-df-convert:hover {\n",
              "      background-color: #434B5C;\n",
              "      box-shadow: 0px 1px 3px 1px rgba(0, 0, 0, 0.15);\n",
              "      filter: drop-shadow(0px 1px 2px rgba(0, 0, 0, 0.3));\n",
              "      fill: #FFFFFF;\n",
              "    }\n",
              "  </style>\n",
              "\n",
              "      <script>\n",
              "        const buttonEl =\n",
              "          document.querySelector('#df-62dfdc3a-92a0-425a-86ca-abaf4ab39b44 button.colab-df-convert');\n",
              "        buttonEl.style.display =\n",
              "          google.colab.kernel.accessAllowed ? 'block' : 'none';\n",
              "\n",
              "        async function convertToInteractive(key) {\n",
              "          const element = document.querySelector('#df-62dfdc3a-92a0-425a-86ca-abaf4ab39b44');\n",
              "          const dataTable =\n",
              "            await google.colab.kernel.invokeFunction('convertToInteractive',\n",
              "                                                     [key], {});\n",
              "          if (!dataTable) return;\n",
              "\n",
              "          const docLinkHtml = 'Like what you see? Visit the ' +\n",
              "            '<a target=\"_blank\" href=https://colab.research.google.com/notebooks/data_table.ipynb>data table notebook</a>'\n",
              "            + ' to learn more about interactive tables.';\n",
              "          element.innerHTML = '';\n",
              "          dataTable['output_type'] = 'display_data';\n",
              "          await google.colab.output.renderOutput(dataTable, element);\n",
              "          const docLink = document.createElement('div');\n",
              "          docLink.innerHTML = docLinkHtml;\n",
              "          element.appendChild(docLink);\n",
              "        }\n",
              "      </script>\n",
              "    </div>\n",
              "  </div>\n",
              "  "
            ]
          },
          "metadata": {},
          "execution_count": 38
        }
      ]
    },
    {
      "cell_type": "markdown",
      "metadata": {
        "id": "XdF80P-eIliq"
      },
      "source": [
        "> A melhor acurácia com o menor valor de k é apresentado a seguir."
      ]
    },
    {
      "cell_type": "code",
      "metadata": {
        "id": "nldUFCWHK_sY",
        "colab": {
          "base_uri": "https://localhost:8080/"
        },
        "outputId": "191546c9-a192-4c2d-8642-1b3238a4980b"
      },
      "source": [
        "\"\"\"\n",
        "Prática de Aprendizado de Máquina\n",
        "\n",
        "Descrição do código:\n",
        "- Imprime a melhor acurácia e sua configuração (k=6).\n",
        "\"\"\"\n",
        "print(\"O melhor valor de k = {} com {} of accuracy.\".format(grid.best_params_,grid.best_score_))"
      ],
      "execution_count": 39,
      "outputs": [
        {
          "output_type": "stream",
          "name": "stdout",
          "text": [
            "O melhor valor de k = {'n_neighbors': 6} com 0.9800000000000001 of accuracy.\n"
          ]
        }
      ]
    },
    {
      "cell_type": "markdown",
      "metadata": {
        "id": "4bGIheWiIztt"
      },
      "source": [
        "> Ele também apresenta o menor desvio padrão dentre os ranqueados em 1o lugar.\n",
        "\n",
        "> O ranking depende somente da acurácia, conforme configurado na instanciação do GridSearch."
      ]
    },
    {
      "cell_type": "code",
      "metadata": {
        "id": "ZN3Bo-X3HyXD",
        "colab": {
          "base_uri": "https://localhost:8080/"
        },
        "outputId": "585a1ce4-bf1f-477e-eaeb-0fb201359803"
      },
      "source": [
        "\"\"\"\n",
        "Prática de Aprendizado de Máquina\n",
        "\n",
        "Descrição do código:\n",
        "- Exibe o desvio padrão e a acruácia média do melhor classificador\n",
        "\"\"\"\n",
        "print(\"O melhor valor de k, rank {}, com k = {}, maior acurácia média obtida com validação cruzada = {} e menor desvio padrão = {}\".format(grid_table.at[grid.best_index_,'rank_test_score'],grid_table.at[grid.best_index_,'params'],grid_table.at[grid.best_index_,'mean_test_score'],grid_table.at[grid.best_index_,'std_test_score']))"
      ],
      "execution_count": null,
      "outputs": [
        {
          "output_type": "stream",
          "name": "stdout",
          "text": [
            "O melhor valor de k, rank 1, com k = {'n_neighbors': 6}, maior acurácia média obtida com validação cruzada = 0.9800000000000001 e menor desvio padrão = 0.016329931618554516\n"
          ]
        }
      ]
    },
    {
      "cell_type": "markdown",
      "metadata": {
        "id": "RAJpqxi1Jgig"
      },
      "source": [
        "> A seguir, o melhor **classificador** com sua configuração."
      ]
    },
    {
      "cell_type": "code",
      "metadata": {
        "id": "9pDlfhcgFTvP",
        "colab": {
          "base_uri": "https://localhost:8080/"
        },
        "outputId": "aba825e3-10f5-48a3-f08d-67884ec58ba8"
      },
      "source": [
        "\"\"\"\n",
        "Prática de Aprendizado de Máquina\n",
        "\n",
        "Descrição do código:\n",
        "- Exibe o melhor classificador e suas configurações\n",
        "\"\"\"\n",
        "print(\"O melhor classificador é: {}\".format(grid.best_estimator_))"
      ],
      "execution_count": null,
      "outputs": [
        {
          "output_type": "stream",
          "name": "stdout",
          "text": [
            "O melhor classificador é: KNeighborsClassifier(n_neighbors=6)\n"
          ]
        }
      ]
    },
    {
      "cell_type": "markdown",
      "metadata": {
        "id": "AQkuiccOL4kN"
      },
      "source": [
        "> ## **Gráficos**\n",
        "\n",
        "A seguir, um gráfico apresentando a variação da acurácia para os diferentes valores de k."
      ]
    },
    {
      "cell_type": "code",
      "metadata": {
        "id": "o88XMSxbMEez"
      },
      "source": [
        "\"\"\"\n",
        "Prática de Aprendizado de Máquina\n",
        "\n",
        "Descrição do código:\n",
        "- Import o matplotlib, uma lib utilizada para visualização de dados.\n",
        "\"\"\"\n",
        "import matplotlib.pyplot as plt"
      ],
      "execution_count": 41,
      "outputs": []
    },
    {
      "cell_type": "code",
      "metadata": {
        "id": "nalSBCgUMTQ_",
        "colab": {
          "base_uri": "https://localhost:8080/",
          "height": 471
        },
        "outputId": "f6efe78f-bcb1-48ce-e4f8-303ad03af1a9"
      },
      "source": [
        "\"\"\"\n",
        "Prática de Aprendizado de Máquina\n",
        "\n",
        "Descrição do código:\n",
        "- Cria um gráfico relacionando acurácia com os valores de K, é uma boa forma para\n",
        "    intuitivamente avaliar o desempenho dos diferentes classificadores.\n",
        "\"\"\"\n",
        "graphic = grid.cv_results_['mean_test_score']\n",
        "graphic\n",
        "\n",
        "plt.figure(figsize=(10,5))\n",
        "plt.plot(k_list,graphic,color='navy',linestyle='dashed',marker='o')\n",
        "plt.xlabel('k', fontdict={'fontsize': 15})\n",
        "plt.ylabel('Acurácia', fontdict={'fontsize': 15})\n",
        "#plt.title('Acurácia para diferentes valores de k', fontdict={'fontsize': 30})\n",
        "plt.xticks(range(0,31,3),)\n",
        "#plt.xaxis.set_major_locator(MultipleLocator(3))\n",
        "plt.show()"
      ],
      "execution_count": 42,
      "outputs": [
        {
          "output_type": "display_data",
          "data": {
            "text/plain": [
              "<Figure size 1000x500 with 1 Axes>"
            ],
            "image/png": "[encoded data removed]"
          },
          "metadata": {}
        }
      ]
    },
    {
      "cell_type": "markdown",
      "metadata": {
        "id": "OSU0o5s7PROs"
      },
      "source": [
        "# **Conclusões**\n",
        "\n",
        "Outros parâmetros poderiam ter sido ajustados com o **GridSearch**. No entanto, como o conjunto de dados Iris é muito simples, provavelmente não faria muita diferença.\n",
        "\n",
        "Durante o curso, teremos oportunidade de utilizar outros conjuntos de dados e ajustar parâmetros de outros algoritmos de aprendizado de máquina."
      ]
    },
    {
      "cell_type": "markdown",
      "metadata": {
        "id": "-9M44DhKv51Q"
      },
      "source": [
        "# **Agradecimentos**\n",
        "\n",
        "Esta aula utilizou parte do conteúdo disponibilizado em:\n",
        "\n",
        "https://colab.research.google.com/github/teliofm/Minerando/blob/master/Scikit_Learn_KNN_Best_Practices.ipynb\n"
      ]
    },
    {
      "cell_type": "markdown",
      "source": [
        "# Resumo e o que aprendi\n",
        "\n",
        "O KNN é um algoritmo que apesar de não gerar nenhuma representação simplificada de conhecimento, e apenas 'lembrar' o dataset inteiro e tentar realizar novas\n",
        "previsões baseado na distância entre o dado e seus vizinhos mais próximos no dataset, ainda sim é um ótimo caso de estudo.\n",
        "\n",
        "Conceitos importantes de métricas também foram interessantes de se estudar, como\n",
        "o recall e precision, confusion matrix e como estes dados viram a acurácia média.\n",
        "\n",
        "Outro ponto importante foi a validação cruzada, que é uma boa forma de testar\n",
        "o desempenho do classificador particionando o dataset de diferentes formas entre\n",
        "teste e treino.\n",
        "\n",
        "Também foi possível ver a importância da análise exploratória dos dados, para que possamos entender as características do dataset e até mesmo entender se o classificador em questão é ideal para o caso.\n",
        "\n",
        "Como vimos, o dataset Iris quando plottado no gráfico de dispersão, apresenta distâncias bem definidas e as classes ficam em grupos bem definidas, quando levamos em consideração certas características, sendo assim era bem esperado que o kNN possuísse uma boa acurácia, dado que usa justamente a distância entre os pontos para realizar predições."
      ],
      "metadata": {
        "id": "0feLN0yRWPsf"
      }
    }
  ]
}